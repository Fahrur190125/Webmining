{
 "cells": [
  {
   "cell_type": "markdown",
   "metadata": {
    "id": "q3uqkJTK4Z2L"
   },
   "source": [
    "# Crawling Website\n",
    "Crawling merupakan suatu proses pengambilan data dengan menggunakan mesin yang dilakukan secara online. Proses ini dilakukan untuk mengimpor data yang ditemukan kedalam file lokal komputer. Untuk dapat melakukan crawling dengan menggunakan python kita dapat menggunakan scrapy."
   ]
  },
  {
   "cell_type": "markdown",
   "metadata": {
    "id": "SfkO5DQK5UAf"
   },
   "source": [
    "## **Installasi Scrapy**\n",
    "Scrapy adalah kerangka kerja aplikasi untuk crawling web site dan mengekstraksi data terstruktur yang dapat digunakan untuk berbagai aplikasi yang bermanfaat, seperti data mining, pemrosesan informasi atau arsip sejarah. Meskipun Scrapy awalnya dirancang untuk web scraping, namu scrapy juga dapat digunakan untuk mengekstrak data menggunakan API (seperti Amazon Associates Web Services) atau sebagai web crawl.<br>\n",
    "Untuk menggunakan scrapy terlebih dahulu install scrapy dengan source code berikut."
   ]
  },
  {
   "cell_type": "code",
   "execution_count": 1,
   "metadata": {
    "colab": {
     "base_uri": "https://localhost:8080/"
    },
    "id": "EgX0a_jYB56V",
    "outputId": "0e5848a0-1c3c-421b-9898-2accfd8cc601"
   },
   "outputs": [
    {
     "name": "stdout",
     "output_type": "stream",
     "text": [
      "Requirement already satisfied: scrapy in c:\\users\\lenovo\\appdata\\local\\programs\\python\\python39\\lib\\site-packages (2.6.1)\n",
      "Requirement already satisfied: Twisted>=17.9.0 in c:\\users\\lenovo\\appdata\\local\\programs\\python\\python39\\lib\\site-packages (from scrapy) (22.4.0)\n",
      "Requirement already satisfied: pyOpenSSL>=16.2.0 in c:\\users\\lenovo\\appdata\\local\\programs\\python\\python39\\lib\\site-packages (from scrapy) (22.0.0)\n",
      "Requirement already satisfied: setuptools in c:\\users\\lenovo\\appdata\\local\\programs\\python\\python39\\lib\\site-packages (from scrapy) (57.4.0)\n",
      "Requirement already satisfied: PyDispatcher>=2.0.5 in c:\\users\\lenovo\\appdata\\local\\programs\\python\\python39\\lib\\site-packages (from scrapy) (2.0.5)\n",
      "Requirement already satisfied: parsel>=1.5.0 in c:\\users\\lenovo\\appdata\\local\\programs\\python\\python39\\lib\\site-packages (from scrapy) (1.6.0)\n",
      "Requirement already satisfied: queuelib>=1.4.2 in c:\\users\\lenovo\\appdata\\local\\programs\\python\\python39\\lib\\site-packages (from scrapy) (1.6.2)\n",
      "Requirement already satisfied: w3lib>=1.17.0 in c:\\users\\lenovo\\appdata\\local\\programs\\python\\python39\\lib\\site-packages (from scrapy) (1.22.0)\n",
      "Requirement already satisfied: itemloaders>=1.0.1 in c:\\users\\lenovo\\appdata\\local\\programs\\python\\python39\\lib\\site-packages (from scrapy) (1.0.4)\n",
      "Requirement already satisfied: protego>=0.1.15 in c:\\users\\lenovo\\appdata\\local\\programs\\python\\python39\\lib\\site-packages (from scrapy) (0.2.1)\n",
      "Requirement already satisfied: itemadapter>=0.1.0 in c:\\users\\lenovo\\appdata\\local\\programs\\python\\python39\\lib\\site-packages (from scrapy) (0.6.0)\n",
      "Requirement already satisfied: tldextract in c:\\users\\lenovo\\appdata\\local\\programs\\python\\python39\\lib\\site-packages (from scrapy) (3.3.0)\n",
      "Requirement already satisfied: cssselect>=0.9.1 in c:\\users\\lenovo\\appdata\\local\\programs\\python\\python39\\lib\\site-packages (from scrapy) (1.1.0)\n",
      "Requirement already satisfied: lxml>=3.5.0 in c:\\users\\lenovo\\appdata\\local\\programs\\python\\python39\\lib\\site-packages (from scrapy) (4.9.1)\n",
      "Requirement already satisfied: cryptography>=2.0 in c:\\users\\lenovo\\appdata\\local\\programs\\python\\python39\\lib\\site-packages (from scrapy) (37.0.2)\n",
      "Requirement already satisfied: service-identity>=16.0.0 in c:\\users\\lenovo\\appdata\\local\\programs\\python\\python39\\lib\\site-packages (from scrapy) (21.1.0)\n",
      "Requirement already satisfied: zope.interface>=4.1.3 in c:\\users\\lenovo\\appdata\\local\\programs\\python\\python39\\lib\\site-packages (from scrapy) (5.4.0)\n",
      "Requirement already satisfied: cffi>=1.12 in c:\\users\\lenovo\\appdata\\local\\programs\\python\\python39\\lib\\site-packages (from cryptography>=2.0->scrapy) (1.15.0)\n",
      "Requirement already satisfied: jmespath>=0.9.5 in c:\\users\\lenovo\\appdata\\local\\programs\\python\\python39\\lib\\site-packages (from itemloaders>=1.0.1->scrapy) (1.0.1)\n",
      "Requirement already satisfied: six>=1.6.0 in c:\\users\\lenovo\\appdata\\local\\programs\\python\\python39\\lib\\site-packages (from parsel>=1.5.0->scrapy) (1.16.0)\n",
      "Requirement already satisfied: pyasn1 in c:\\users\\lenovo\\appdata\\local\\programs\\python\\python39\\lib\\site-packages (from service-identity>=16.0.0->scrapy) (0.4.8)\n",
      "Requirement already satisfied: attrs>=19.1.0 in c:\\users\\lenovo\\appdata\\local\\programs\\python\\python39\\lib\\site-packages (from service-identity>=16.0.0->scrapy) (21.4.0)\n",
      "Requirement already satisfied: pyasn1-modules in c:\\users\\lenovo\\appdata\\local\\programs\\python\\python39\\lib\\site-packages (from service-identity>=16.0.0->scrapy) (0.2.8)\n",
      "Requirement already satisfied: hyperlink>=17.1.1 in c:\\users\\lenovo\\appdata\\local\\programs\\python\\python39\\lib\\site-packages (from Twisted>=17.9.0->scrapy) (21.0.0)\n",
      "Requirement already satisfied: incremental>=21.3.0 in c:\\users\\lenovo\\appdata\\local\\programs\\python\\python39\\lib\\site-packages (from Twisted>=17.9.0->scrapy) (21.3.0)\n",
      "Requirement already satisfied: Automat>=0.8.0 in c:\\users\\lenovo\\appdata\\local\\programs\\python\\python39\\lib\\site-packages (from Twisted>=17.9.0->scrapy) (20.2.0)\n",
      "Requirement already satisfied: typing-extensions>=3.6.5 in c:\\users\\lenovo\\appdata\\local\\programs\\python\\python39\\lib\\site-packages (from Twisted>=17.9.0->scrapy) (4.0.1)\n",
      "Requirement already satisfied: twisted-iocpsupport<2,>=1.0.2 in c:\\users\\lenovo\\appdata\\local\\programs\\python\\python39\\lib\\site-packages (from Twisted>=17.9.0->scrapy) (1.0.2)\n",
      "Requirement already satisfied: constantly>=15.1 in c:\\users\\lenovo\\appdata\\local\\programs\\python\\python39\\lib\\site-packages (from Twisted>=17.9.0->scrapy) (15.1.0)\n",
      "Requirement already satisfied: idna in c:\\users\\lenovo\\appdata\\local\\programs\\python\\python39\\lib\\site-packages (from tldextract->scrapy) (3.3)\n",
      "Requirement already satisfied: requests-file>=1.4 in c:\\users\\lenovo\\appdata\\local\\programs\\python\\python39\\lib\\site-packages (from tldextract->scrapy) (1.5.1)\n",
      "Requirement already satisfied: filelock>=3.0.8 in c:\\users\\lenovo\\appdata\\local\\programs\\python\\python39\\lib\\site-packages (from tldextract->scrapy) (3.7.1)\n",
      "Requirement already satisfied: requests>=2.1.0 in c:\\users\\lenovo\\appdata\\local\\programs\\python\\python39\\lib\\site-packages (from tldextract->scrapy) (2.26.0)\n",
      "Requirement already satisfied: pycparser in c:\\users\\lenovo\\appdata\\local\\programs\\python\\python39\\lib\\site-packages (from cffi>=1.12->cryptography>=2.0->scrapy) (2.21)\n",
      "Requirement already satisfied: charset-normalizer~=2.0.0 in c:\\users\\lenovo\\appdata\\local\\programs\\python\\python39\\lib\\site-packages (from requests>=2.1.0->tldextract->scrapy) (2.0.9)\n",
      "Requirement already satisfied: certifi>=2017.4.17 in c:\\users\\lenovo\\appdata\\local\\programs\\python\\python39\\lib\\site-packages (from requests>=2.1.0->tldextract->scrapy) (2021.10.8)\n",
      "Requirement already satisfied: urllib3<1.27,>=1.21.1 in c:\\users\\lenovo\\appdata\\local\\programs\\python\\python39\\lib\\site-packages (from requests>=2.1.0->tldextract->scrapy) (1.26.7)\n"
     ]
    },
    {
     "name": "stderr",
     "output_type": "stream",
     "text": [
      "\n",
      "[notice] A new release of pip available: 22.2.2 -> 22.3.1\n",
      "[notice] To update, run: python.exe -m pip install --upgrade pip\n"
     ]
    }
   ],
   "source": [
    "!pip install scrapy"
   ]
  },
  {
   "cell_type": "markdown",
   "metadata": {
    "id": "Swa8dh5S57Vo"
   },
   "source": [
    "## **Crawling Abstrak**\n",
    "Setelah berhasil menginstall scrapy, selanjutnya kita dapat melakukan proses crawling data abstrak dari pta.trunojoyo menggunakan library scrapy dengan menggunakan source code berikut."
   ]
  },
  {
   "cell_type": "code",
   "execution_count": 2,
   "metadata": {
    "colab": {
     "base_uri": "https://localhost:8080/"
    },
    "id": "Ftg5pTqtmapU",
    "outputId": "a8a1a101-c8b6-4a45-e3de-306f1b42c377"
   },
   "outputs": [
    {
     "name": "stderr",
     "output_type": "stream",
     "text": [
      "2022-11-15 07:17:02 [scrapy.utils.log] INFO: Scrapy 2.6.1 started (bot: scrapybot)\n"
     ]
    },
    {
     "name": "stderr",
     "output_type": "stream",
     "text": [
      "2022-11-15 07:17:02 [scrapy.utils.log] INFO: Versions: lxml 4.9.1.0, libxml2 2.9.12, cssselect 1.1.0, parsel 1.6.0, w3lib 1.22.0, Twisted 22.4.0, Python 3.9.7 (tags/v3.9.7:1016ef3, Aug 30 2021, 20:19:38) [MSC v.1929 64 bit (AMD64)], pyOpenSSL 22.0.0 (OpenSSL 3.0.3 3 May 2022), cryptography 37.0.2, Platform Windows-10-10.0.19045-SP0\n"
     ]
    },
    {
     "name": "stderr",
     "output_type": "stream",
     "text": [
      "2022-11-15 07:17:02 [scrapy.crawler] INFO: Overridden settings:\n",
      "{}\n"
     ]
    },
    {
     "name": "stderr",
     "output_type": "stream",
     "text": [
      "2022-11-15 07:17:02 [scrapy.utils.log] DEBUG: Using reactor: twisted.internet.selectreactor.SelectReactor\n"
     ]
    },
    {
     "name": "stderr",
     "output_type": "stream",
     "text": [
      "2022-11-15 07:17:03 [scrapy.extensions.telnet] INFO: Telnet Password: 64c211afa6bdc636\n"
     ]
    },
    {
     "name": "stderr",
     "output_type": "stream",
     "text": [
      "2022-11-15 07:17:03 [py.warnings] WARNING: C:\\Users\\Lenovo\\AppData\\Local\\Programs\\Python\\Python39\\lib\\site-packages\\scrapy\\extensions\\feedexport.py:289: ScrapyDeprecationWarning: The `FEED_URI` and `FEED_FORMAT` settings have been deprecated in favor of the `FEEDS` setting. Please see the `FEEDS` setting docs for more details\n",
      "  exporter = cls(crawler)\n",
      "\n"
     ]
    },
    {
     "name": "stderr",
     "output_type": "stream",
     "text": [
      "2022-11-15 07:17:03 [scrapy.middleware] INFO: Enabled extensions:\n",
      "['scrapy.extensions.corestats.CoreStats',\n",
      " 'scrapy.extensions.telnet.TelnetConsole',\n",
      " 'scrapy.extensions.feedexport.FeedExporter',\n",
      " 'scrapy.extensions.logstats.LogStats']\n"
     ]
    },
    {
     "name": "stderr",
     "output_type": "stream",
     "text": [
      "2022-11-15 07:17:03 [scrapy.middleware] INFO: Enabled downloader middlewares:\n",
      "['scrapy.downloadermiddlewares.httpauth.HttpAuthMiddleware',\n",
      " 'scrapy.downloadermiddlewares.downloadtimeout.DownloadTimeoutMiddleware',\n",
      " 'scrapy.downloadermiddlewares.defaultheaders.DefaultHeadersMiddleware',\n",
      " 'scrapy.downloadermiddlewares.useragent.UserAgentMiddleware',\n",
      " 'scrapy.downloadermiddlewares.retry.RetryMiddleware',\n",
      " 'scrapy.downloadermiddlewares.redirect.MetaRefreshMiddleware',\n",
      " 'scrapy.downloadermiddlewares.httpcompression.HttpCompressionMiddleware',\n",
      " 'scrapy.downloadermiddlewares.redirect.RedirectMiddleware',\n",
      " 'scrapy.downloadermiddlewares.cookies.CookiesMiddleware',\n",
      " 'scrapy.downloadermiddlewares.httpproxy.HttpProxyMiddleware',\n",
      " 'scrapy.downloadermiddlewares.stats.DownloaderStats']\n"
     ]
    },
    {
     "name": "stderr",
     "output_type": "stream",
     "text": [
      "2022-11-15 07:17:03 [scrapy.middleware] INFO: Enabled spider middlewares:\n",
      "['scrapy.spidermiddlewares.httperror.HttpErrorMiddleware',\n",
      " 'scrapy.spidermiddlewares.offsite.OffsiteMiddleware',\n",
      " 'scrapy.spidermiddlewares.referer.RefererMiddleware',\n",
      " 'scrapy.spidermiddlewares.urllength.UrlLengthMiddleware',\n",
      " 'scrapy.spidermiddlewares.depth.DepthMiddleware']\n"
     ]
    },
    {
     "name": "stderr",
     "output_type": "stream",
     "text": [
      "2022-11-15 07:17:03 [scrapy.middleware] INFO: Enabled item pipelines:\n",
      "[]\n"
     ]
    },
    {
     "name": "stderr",
     "output_type": "stream",
     "text": [
      "2022-11-15 07:17:03 [scrapy.core.engine] INFO: Spider opened\n"
     ]
    },
    {
     "name": "stderr",
     "output_type": "stream",
     "text": [
      "2022-11-15 07:17:04 [scrapy.extensions.logstats] INFO: Crawled 0 pages (at 0 pages/min), scraped 0 items (at 0 items/min)\n"
     ]
    },
    {
     "name": "stderr",
     "output_type": "stream",
     "text": [
      "2022-11-15 07:17:04 [scrapy.extensions.telnet] INFO: Telnet console listening on 127.0.0.1:6023\n"
     ]
    },
    {
     "name": "stderr",
     "output_type": "stream",
     "text": [
      "2022-11-15 07:17:06 [filelock] DEBUG: Attempting to acquire lock 1543711775808 on C:\\Users\\Lenovo\\AppData\\Local\\Programs\\Python\\Python39\\lib\\site-packages\\tldextract\\.suffix_cache/publicsuffix.org-tlds\\de84b5ca2167d4c83e38fb162f2e8738.tldextract.json.lock\n"
     ]
    },
    {
     "name": "stderr",
     "output_type": "stream",
     "text": [
      "2022-11-15 07:17:06 [filelock] DEBUG: Lock 1543711775808 acquired on C:\\Users\\Lenovo\\AppData\\Local\\Programs\\Python\\Python39\\lib\\site-packages\\tldextract\\.suffix_cache/publicsuffix.org-tlds\\de84b5ca2167d4c83e38fb162f2e8738.tldextract.json.lock\n"
     ]
    },
    {
     "name": "stderr",
     "output_type": "stream",
     "text": [
      "2022-11-15 07:17:06 [filelock] DEBUG: Attempting to release lock 1543711775808 on C:\\Users\\Lenovo\\AppData\\Local\\Programs\\Python\\Python39\\lib\\site-packages\\tldextract\\.suffix_cache/publicsuffix.org-tlds\\de84b5ca2167d4c83e38fb162f2e8738.tldextract.json.lock\n"
     ]
    },
    {
     "name": "stderr",
     "output_type": "stream",
     "text": [
      "2022-11-15 07:17:06 [filelock] DEBUG: Lock 1543711775808 released on C:\\Users\\Lenovo\\AppData\\Local\\Programs\\Python\\Python39\\lib\\site-packages\\tldextract\\.suffix_cache/publicsuffix.org-tlds\\de84b5ca2167d4c83e38fb162f2e8738.tldextract.json.lock\n"
     ]
    },
    {
     "name": "stderr",
     "output_type": "stream",
     "text": [
      "2022-11-15 07:17:06 [scrapy.core.engine] DEBUG: Crawled (200) <GET https://pta.trunojoyo.ac.id/welcome/detail/130411100006> (referer: None)\n"
     ]
    },
    {
     "name": "stderr",
     "output_type": "stream",
     "text": [
      "2022-11-15 07:17:06 [scrapy.core.engine] DEBUG: Crawled (200) <GET https://pta.trunojoyo.ac.id/welcome/detail/130411100007> (referer: None)\n"
     ]
    },
    {
     "name": "stderr",
     "output_type": "stream",
     "text": [
      "2022-11-15 07:17:06 [scrapy.core.engine] DEBUG: Crawled (200) <GET https://pta.trunojoyo.ac.id/welcome/detail/130411100004> (referer: None)\n"
     ]
    },
    {
     "name": "stderr",
     "output_type": "stream",
     "text": [
      "2022-11-15 07:17:06 [scrapy.core.engine] DEBUG: Crawled (200) <GET https://pta.trunojoyo.ac.id/welcome/detail/130411100003> (referer: None)\n"
     ]
    },
    {
     "name": "stderr",
     "output_type": "stream",
     "text": [
      "2022-11-15 07:17:06 [scrapy.core.scraper] DEBUG: Scraped from <200 https://pta.trunojoyo.ac.id/welcome/detail/130411100006>\r\n",
      "{'Abstrak': 'Bisnis pakaian di era modern ini berkembang seiring dengan perkembangan teknologi, terlihat dari banyaknya pusat perbelanjaan yang dimana di dalamnya terdapat beberapa toko pakaian. Banyaknya toko pakaian yang ada, membuat para pemilik toko bersaing memberikan inovasi yang bisa menarik minat calon pembeli untuk membeli produk mereka misalkan memberikan promo atau potongan harga agar calon pembeli tertarik. Semakin banyak calon pembeli yang tertarik dan berkunjung untuk mencoba pakaian, bisa menyebabkan antrian pada ruang ganti yang biasanya dalam jumlah terbatas. Oleh karena itu, teknologi pada sensor Kinect dan Augmented Reality menjadi salah satu solusi tepat untuk mengatasi permasalahan tersebut. Dengan penggunaan sensor Kinect dapat diukur estimasi ukuran lebar punggung manusia yang dapat dijadikan acuan dalam memilih ukuran baju yang sesuai. Sedangkan melalui teknologi Augmented Reality, pakaian direpresentasikan menjadi obyek virtual yang dapat ditambahkan ke tubuh pengguna tanpa harus mencoba pakaian secara langsung. Dari hasil penelitian ini, akurasi rata-rata dari sistem untuk merekomendasikan pakaian sebesar 75 %, sedangkan sistem akan optimal dalam memberikan rekomendasi sebesar 86 % pada ketinggian Kinect 75 cm dan jarak Kinect dengan user 200 cm, 225 cm dan 250 cm. Survei User Experience dengan Skala Likert berada pada angka 83,9 % yang menunjukkan bahwa pengguna puas dengan hasil dari penelitian ini. '}\n"
     ]
    },
    {
     "name": "stderr",
     "output_type": "stream",
     "text": [
      "2022-11-15 07:17:06 [scrapy.core.scraper] DEBUG: Scraped from <200 https://pta.trunojoyo.ac.id/welcome/detail/130411100007>\r\n",
      "{'Abstrak': 'Pada Proses identifikasi Leukemia ada beberapa masalah yang terjadi yaitu lamanya proses atau prosedure dimana memakan waktu yang lama sehingga membuat proses identifikasi tidak efisien. Dengan adanya permasalahan tersebut maka akan diselesaikan menggunakan metode Naive Bayes sebagai proses klasifikasi. Algoritma pengolahan citra yang digunakan adalah contras stretching dengan menggunakan metode Fuzzy c-means (FCM) sebagai proses segmentasi dan ekstraksi ciri menggunakan Gray Level Cooccurence Matrix (GLCM) dengan menggunakan 6 fitur GLCM berdasarkan sudut 0°, 45°, 90° dan 135°. Tujuan dari penelitian ini adalah mengimplementasikan Algoritma Naive Bayes sebagai klasifikasi leukemia apakah termasuk ALL_positif atau ALL_negatif dan mengetahui hasil akurasi dari sistem yang dibuat.\\nPada proses pengujian digunakan 260 citra yaitu 130 ALL-Positif dan 130 ALL-Negatif. Hasil penelitian menunjukkan bahwa klasifikasi berdasarkan ekstraksi fitur GLCM mendapat akurasi sebesar 78% dalam mengklasifikasi sel darah putih.\\n'}\n"
     ]
    },
    {
     "name": "stderr",
     "output_type": "stream",
     "text": [
      "2022-11-15 07:17:06 [scrapy.core.scraper] DEBUG: Scraped from <200 https://pta.trunojoyo.ac.id/welcome/detail/130411100004>\r\n",
      "{'Abstrak': None}\n"
     ]
    },
    {
     "name": "stderr",
     "output_type": "stream",
     "text": [
      "2022-11-15 07:17:06 [scrapy.core.scraper] DEBUG: Scraped from <200 https://pta.trunojoyo.ac.id/welcome/detail/130411100003>\r\n",
      "{'Abstrak': None}\n"
     ]
    },
    {
     "name": "stderr",
     "output_type": "stream",
     "text": [
      "2022-11-15 07:17:06 [scrapy.core.engine] DEBUG: Crawled (200) <GET https://pta.trunojoyo.ac.id/welcome/detail/130411100001> (referer: None)\n"
     ]
    },
    {
     "name": "stderr",
     "output_type": "stream",
     "text": [
      "2022-11-15 07:17:06 [scrapy.core.engine] DEBUG: Crawled (200) <GET https://pta.trunojoyo.ac.id/welcome/detail/130411100002> (referer: None)\n"
     ]
    },
    {
     "name": "stderr",
     "output_type": "stream",
     "text": [
      "2022-11-15 07:17:06 [scrapy.core.engine] DEBUG: Crawled (200) <GET https://pta.trunojoyo.ac.id/welcome/detail/130411100008> (referer: None)\n"
     ]
    },
    {
     "name": "stderr",
     "output_type": "stream",
     "text": [
      "2022-11-15 07:17:06 [scrapy.core.scraper] DEBUG: Scraped from <200 https://pta.trunojoyo.ac.id/welcome/detail/130411100001>\r\n",
      "{'Abstrak': 'Bola voli dapat dikatakan sebagai salah satu olahraga yang mempunyai gerakan–gerakan kompleks. Seorang pemain voli harus bekerja keras untuk meningkatkan kemampuannya dengan salah satunya pada kondisi fisik. Dalam menentukan kondisi fisik dapat memanfaatkan komputer sains dalam memberikan solusi dan pendukung keputusan terhadap pemain voli. Dengan menerapkan metode learning vector quzntization dapat mengklasifikasi kondisi fisik seorang pemain voli. Metode learning vector quantization sendiri merupakan metode klasifikasi Supervised Learning. Dengan adanya sistem ini dapat membantu pelatih untuk mengetahui dan memberikan porsi latihan terhadap pemain yang mempunyai kondisi fisik yang dibagi beberapa kategori yaitu baik sekali, baik, cukup, kurang, dan kurang sekali sehingga penentuan kondisi fisik pemain lebih cepat. Hasil akurasi yang diperoleh klasifikasi kondisi fisik pada pemain bola voli menggunakan metode learning vector quantization yaitu 95% dengan alpha 0,1 sampai 0,5 dan epoch 5 sampai 40 yang didapatkan dari hasil perbandingan perhitungan manual dengan hasil klasifikasi sistem.\\nKata kunci : Klasifikasi, Kondisi Fisik, Learning Vector Quantization.'}\n"
     ]
    },
    {
     "name": "stderr",
     "output_type": "stream",
     "text": [
      "2022-11-15 07:17:06 [scrapy.core.scraper] DEBUG: Scraped from <200 https://pta.trunojoyo.ac.id/welcome/detail/130411100002>\r\n",
      "{'Abstrak': None}\n"
     ]
    },
    {
     "name": "stderr",
     "output_type": "stream",
     "text": [
      "2022-11-15 07:17:07 [scrapy.core.scraper] DEBUG: Scraped from <200 https://pta.trunojoyo.ac.id/welcome/detail/130411100008>\r\n",
      "{'Abstrak': 'Pelayanan administrasi kependudukan di Kantor Kecamatan Kamal saat ini masih menggunakan cara manual. Hal ini menyebabkan proses pelayanan administrasi yang ada di Kantor Kecamatan Kamal belum bisa berjalan secara efisien. Oleh karena itu, dibutuhkan sebuah aplikasi Sistem Pelayanan Administrasi Kependudukan berbasis web yang dibangun dengan arsitektur Model View Controller menggunakan Framework Codeigniter. Dengan menggunakan arsitektur MVC ada beberapa keuntungan diantarannya pengembangan perangkat lunak mudah untuk dilakukan perbaikan. Dengan menggunakan arsitektur MVC dapat membawa perubahan yakni mempermudah pada proses pelayanan kependudukan dikecamatan Kamal, dan juga dapat mempersingkat  waktu proses pelayanan sehingga dapat mengurangi penumpukan antrian selain itu juga dapat mempermudah admin di kantor kecamatan pada proses pencarian data penduduk yang bertempat tinggal di kecamatan Kamal. Hasil penelitian menunjukkan bahwa implementasi MVC pada aplikasi sistem pelayanan administrasi kependudukan dapat mudah digunakan dan dikembangkan kembali.\\nKata Kunci : Sistem Informasi, Administrasi Kependudukan, Aplikasi Berbasis Web, MVC, Codeigniter\\n'}\n"
     ]
    },
    {
     "name": "stderr",
     "output_type": "stream",
     "text": [
      "2022-11-15 07:17:07 [scrapy.core.engine] DEBUG: Crawled (200) <GET https://pta.trunojoyo.ac.id/welcome/detail/130411100005> (referer: None)\n"
     ]
    },
    {
     "name": "stderr",
     "output_type": "stream",
     "text": [
      "2022-11-15 07:17:07 [scrapy.core.scraper] DEBUG: Scraped from <200 https://pta.trunojoyo.ac.id/welcome/detail/130411100005>\r\n",
      "{'Abstrak': None}\n"
     ]
    },
    {
     "name": "stderr",
     "output_type": "stream",
     "text": [
      "2022-11-15 07:17:07 [scrapy.core.engine] DEBUG: Crawled (200) <GET https://pta.trunojoyo.ac.id/welcome/detail/130411100009> (referer: None)\n"
     ]
    },
    {
     "name": "stderr",
     "output_type": "stream",
     "text": [
      "2022-11-15 07:17:07 [scrapy.core.engine] DEBUG: Crawled (200) <GET https://pta.trunojoyo.ac.id/welcome/detail/130411100011> (referer: None)\n"
     ]
    },
    {
     "name": "stderr",
     "output_type": "stream",
     "text": [
      "2022-11-15 07:17:07 [scrapy.core.engine] DEBUG: Crawled (200) <GET https://pta.trunojoyo.ac.id/welcome/detail/130411100010> (referer: None)\n"
     ]
    },
    {
     "name": "stderr",
     "output_type": "stream",
     "text": [
      "2022-11-15 07:17:07 [scrapy.core.scraper] DEBUG: Scraped from <200 https://pta.trunojoyo.ac.id/welcome/detail/130411100009>\r\n",
      "{'Abstrak': 'Kegiatan pencatatan data administrasi penduduk oleh pemerintahan desa sering dihadapi masalah seperti, hilangnya data, pengisian data yang salah, dan sulitnya proses pencarian data. Hal ini dikarenakan proses pencatatanya dibagi dalam lima buku yaitu, buku Induk Penduduk, buku Mutasi Penduduk Desa, buku Rekapitulasi Jumlah Penduduk, buku Penduduk Sementara; dan buku Kartu Tanda Penduduk dan buku Kartu Keluarga, serta dalam pengelolaanya selama ini, masih menggunakan cara manual. Untuk mengatasi masalah tersebut, diperlukan sebuah aplikasi yang dapat mengatasi permasalahan dan kerumitan dalam proses pencatatan administrasi penduduk. Teknologi/konsep Hierarchical Model View Controller dipilih, karena mempermudah dalam pengembangan aplikasi dan penyatuan dari beberapa buku administrasi penduduk, berdasarkan PERMENDAGRI No. 47 Tahun 2016. Penerapan HMVC tersusun dari beberapa modul MVC. Pada administrasi penduduk konsep Hierarchical diterapakan pada setiap sub buku administrasi penduduk, dimana dalam sub terdapat konsep MVC. Dari ujicoba aplikasi pengelolaan administrasi penduduk, berbasis HMVC didapat kesimpulan, bahwa aplikasi ini, sesuai dengan permendagri no. 47 tahun 2016 dalam penerapan konsep HMVC. Sehingga, mempermudah proses administrasi penduduk dan pengembangan aplikasi kedepannya.'}\n"
     ]
    },
    {
     "name": "stderr",
     "output_type": "stream",
     "text": [
      "2022-11-15 07:17:07 [scrapy.core.scraper] DEBUG: Scraped from <200 https://pta.trunojoyo.ac.id/welcome/detail/130411100011>\r\n",
      "{'Abstrak': 'Image merupakan suatu media yang memberikan informasi lebih banyak dari pada informasi yang disajikan dalam bentuk tulisan. Oleh karena itu maka diperlukan aplikasi untuk mengamankan sebuah image sehingga image tidak dapat dilihat oleh yang tidak berhak melihat. Salah satu aplikasi pengamanan tersebut yaitu menggunakan kriptografi dengan metode RC6. Inputan berupa digital image, kemudian image dienkripsi dan didekripsi menggunakan algoritma RC6 biasa, dan selanjutnya dilakukan proses enkripsi dan dekripsi sebagai pembanding dengan menggunakan algoritma RC6 dengan kunci yang telah dimodifikasi. Kunci yang dimodifikasi yakni kunci yang difungsikan dengan Blum Blum Shub. Algoritma RC6 dengan menggunakan kunci biasa memiliki performansi yang baik, terlihat dari nilai Avalanche Effect sebesar antara 49.9167 % dan nilai Avalanche Effect dari modifikasi kunci RC6 yaitu 50.0808 %. Rata-rata waktu enkripsi-dekripsi pada kunci biasa RC6 sebesar 0.8086542 dan 0.7348798 detik dan rata-rata waktu enkripsi-dekripsi modifikasi kunci RC6 yaitu 0.695695 detik dan 0.6764988 detik. Sedangkan  rata-rata PSNR kunci biasa RC6 yang dihasilkan yaitu 8.24174 dan PSNR modifikasi kunci RC6 yaitu 8.08961. Secara umum bahwa Avalanche Effect dan waktu enkripsi dan dekripsi pada modifikasi kunci RC6 lebih baik dari RC6 biasa sebesar 0.1641 % dan  enkripsi-dekripsi 0.1129592 detik dan 0.058381 detik .Sedangkan performa PSNR lebih baik menggunakan kunci RC6 biasa.\\nKata kunci: Image, kriptografi, RC6, Blum Blum Shub, lama waktu proses, Avalanche Effect, PSNR\\n'}\n"
     ]
    },
    {
     "name": "stderr",
     "output_type": "stream",
     "text": [
      "2022-11-15 07:17:07 [scrapy.core.scraper] DEBUG: Scraped from <200 https://pta.trunojoyo.ac.id/welcome/detail/130411100010>\r\n",
      "{'Abstrak': 'Di Dinas Koperasi dan UMKM  kabupaten Bangkalan mempunyai banyak data diantaranya data aset, data omset, jumlah tenaga kerja,jenis kegiatan usaha,nama pemilik  usaha, dan tahun berdiri usaha tersebut dengan nilai yang berbeda. Dari permsalahan tersebut untuk memperoleh hasil pengelompokkan data usaha  mikro yang tepat maka di perlukan adanya sebuah clustering dengan menggunakan metode Fuzzy C-Means,tujuan dari penelitian ini adalah mengelompokkan data usaha mikro berdasarkan data aset, omset dan jumlah tenaga kerja.Pada proses pengujian digunakan 300 data usaha mikro. Hasil dari penelitian menunjukkan bahwa clustering berdasarkan metode Fuzzy C-Means mendapatkan 8 cluster dengan nilai sillhoutte 0,4314\\nKata kunci :  Clustering , Fuzzy C-Mean Clustering , Usaha Mikro\\n'}\n"
     ]
    },
    {
     "name": "stderr",
     "output_type": "stream",
     "text": [
      "2022-11-15 07:17:08 [scrapy.core.engine] DEBUG: Crawled (200) <GET https://pta.trunojoyo.ac.id/welcome/detail/130411100012> (referer: None)\n"
     ]
    },
    {
     "name": "stderr",
     "output_type": "stream",
     "text": [
      "2022-11-15 07:17:08 [scrapy.core.engine] DEBUG: Crawled (200) <GET https://pta.trunojoyo.ac.id/welcome/detail/130411100013> (referer: None)\n"
     ]
    },
    {
     "name": "stderr",
     "output_type": "stream",
     "text": [
      "2022-11-15 07:17:08 [scrapy.core.engine] DEBUG: Crawled (200) <GET https://pta.trunojoyo.ac.id/welcome/detail/130411100014> (referer: None)\n"
     ]
    },
    {
     "name": "stderr",
     "output_type": "stream",
     "text": [
      "2022-11-15 07:17:08 [scrapy.core.engine] DEBUG: Crawled (200) <GET https://pta.trunojoyo.ac.id/welcome/detail/130411100015> (referer: None)\n"
     ]
    },
    {
     "name": "stderr",
     "output_type": "stream",
     "text": [
      "2022-11-15 07:17:08 [scrapy.core.scraper] DEBUG: Scraped from <200 https://pta.trunojoyo.ac.id/welcome/detail/130411100012>\r\n",
      "{'Abstrak': None}\n"
     ]
    },
    {
     "name": "stderr",
     "output_type": "stream",
     "text": [
      "2022-11-15 07:17:08 [scrapy.core.scraper] DEBUG: Scraped from <200 https://pta.trunojoyo.ac.id/welcome/detail/130411100013>\r\n",
      "{'Abstrak': None}\n"
     ]
    },
    {
     "name": "stderr",
     "output_type": "stream",
     "text": [
      "2022-11-15 07:17:08 [scrapy.core.scraper] DEBUG: Scraped from <200 https://pta.trunojoyo.ac.id/welcome/detail/130411100014>\r\n",
      "{'Abstrak': 'Aplikasi penerjemah bahasa bilingual Indonesia Madura berbasis web telah tersedia di madura.web.id. Tidak cukup pada web tersebut perlu adanya sebuah sistem penerjemah Bahasa billingual Madura Indonesia yang dapat berjalan pada semua platform dan dapat digunakan oleh pengembang-pengembang aplikasi lain untuk menggunakan sistem terjemahan ini sehingga pembelajaran Bahasa Madura bisa menjadi lebih berkembang.  Salah satunya adalah aplikasi penerjemah pada perangkat android karena paltform android paling banyak digunakan oleh pengguna smartphone. Untuk membangun sistem penerjemah yang bisa digunakan oleh semua platform termasuk android adalah dengan membuat web service. Web service adalah standar dan sebuah metode pemrograman untuk membagikan data antar beberapa aplikasi. Arsitektur yang sangat baik digunakan adalah RESTful Web Service karena lebih ringan dan cepat. Sedangkan untuk format teks yang digunakan untuk pertukaran data adalah format JSON yang lebih mudah di encoding maupun di decoding oleh perangkat mobile. Berdasarkan hasil pengujian, waktu response untuk penerjemah bahasa bilingual Madura dan Indonesia pada perangkat android, penggunaan web service lebih cepat dibandingkan dengan sistem penerjemah  pada website yang telah ada, berdasarkan hasil pengujian pada jaringan 2G rata-rata waktu response web service lebih cepat 31% dibanding dengan website, pada jaringan 3G lebih cepat 77% dan pada jaringan 4G lebih cepat 73%.\\nKata Kunci : RESTful API, web service, JSON, Terjemahan Madura Indonesia'}\n"
     ]
    },
    {
     "name": "stderr",
     "output_type": "stream",
     "text": [
      "2022-11-15 07:17:08 [scrapy.core.scraper] DEBUG: Scraped from <200 https://pta.trunojoyo.ac.id/welcome/detail/130411100015>\r\n",
      "{'Abstrak': '      Sistem pengendalian persediaan barang  (inventory logistic) merupakan suatu sistem untuk mengetahui stock opname persediaan barang pada suatu tempat. Karena terdapat beberapa masalah, yaitu adanya kesulitan dalam mengetahui informasi permintaan, penerimaan, pemakaian, dan stok barang habis pakai (BHP) . Hal ini disebabkan data belum tersimpan dalam file yang baik dan pengelolaan data persediaan BHP masih dilakukan secara manual (kartu persediaan barang), dalam proses persedian barang di gudang menjadi single user dalam melakukan stock opname persediaan BHP tidak dapat digunakan untuk multiusers sehingga bagian pelayanan dan Kepala Logistik tidak dapat langsung bisa mengakses laporan stock opname BHP. Permasalahan seperti ini memerlukan sebuah sistem yang terkomputerisasi dan berbasis web. \\n\\n     Metodologi pengembangan sistem yang digunakan dalam penelitian ini adalah dengan metode waterfall (Siklus Air Terjun) yang meliputi, analisa dan rekayasa sistem, analisis kebutuhan, perancangan, pemrograman, pengujian dan pemeliharaan. Sistem Manajemen Inventory Logistic telah dirasa tepat hal ini dapat dilihat pada kepuasan pengguna dengan nilai survei rata-rata adalah sebesar 7,88 dan uji coba sistem yang dapat berjalan dengan baik. Aplikasi ini secara signifikan dapat menyederhanakan alur kerja distribusi barang dan pembuatan laporan distribusi barang di lingkungan RSUD. dr. H. Slamet Martodirdjo. \\nKata Kunci : Inventory, Stock Opname, BHP (Barang Habis Pakai)\\n'}\n"
     ]
    },
    {
     "name": "stderr",
     "output_type": "stream",
     "text": [
      "2022-11-15 07:17:08 [scrapy.core.engine] DEBUG: Crawled (200) <GET https://pta.trunojoyo.ac.id/welcome/detail/130411100017> (referer: None)\n"
     ]
    },
    {
     "name": "stderr",
     "output_type": "stream",
     "text": [
      "2022-11-15 07:17:08 [scrapy.core.engine] DEBUG: Crawled (200) <GET https://pta.trunojoyo.ac.id/welcome/detail/130411100018> (referer: None)\n"
     ]
    },
    {
     "name": "stderr",
     "output_type": "stream",
     "text": [
      "2022-11-15 07:17:08 [scrapy.core.engine] DEBUG: Crawled (200) <GET https://pta.trunojoyo.ac.id/welcome/detail/130411100016> (referer: None)\n"
     ]
    },
    {
     "name": "stderr",
     "output_type": "stream",
     "text": [
      "2022-11-15 07:17:08 [scrapy.core.engine] DEBUG: Crawled (200) <GET https://pta.trunojoyo.ac.id/welcome/detail/130411100019> (referer: None)\n"
     ]
    },
    {
     "name": "stderr",
     "output_type": "stream",
     "text": [
      "2022-11-15 07:17:08 [scrapy.core.scraper] DEBUG: Scraped from <200 https://pta.trunojoyo.ac.id/welcome/detail/130411100017>\r\n",
      "{'Abstrak': None}\n"
     ]
    },
    {
     "name": "stderr",
     "output_type": "stream",
     "text": [
      "2022-11-15 07:17:09 [scrapy.core.scraper] DEBUG: Scraped from <200 https://pta.trunojoyo.ac.id/welcome/detail/130411100018>\r\n",
      "{'Abstrak': None}\n"
     ]
    },
    {
     "name": "stderr",
     "output_type": "stream",
     "text": [
      "2022-11-15 07:17:09 [scrapy.core.scraper] DEBUG: Scraped from <200 https://pta.trunojoyo.ac.id/welcome/detail/130411100016>\r\n",
      "{'Abstrak': None}\n"
     ]
    },
    {
     "name": "stderr",
     "output_type": "stream",
     "text": [
      "2022-11-15 07:17:09 [scrapy.core.scraper] DEBUG: Scraped from <200 https://pta.trunojoyo.ac.id/welcome/detail/130411100019>\r\n",
      "{'Abstrak': 'Proses monitoring kegiatan yang ada di asrama pada saat ini masih manual. Dari proses manual tersebut ketika pengelola meminta data – data  kegiatan yang sudah dilaksanakan di asrama kepada musahhil, maka musahhil harus mencari data sehingga membutuhkan waktu yang cukup lama.  Oleh karena itu dibutuhkan suatu aplikasi yang dapat mengatasi permasalahan - permasalahan tersebut. Aplikasi yang akan digunakan adalah dengan  menerapkan konsep  MVC (Model, View Controller) menggunakan Framework Codeigniter. MVC adalah suatu konsep dimana untuk mengembangkan suatu aplikasi website yang  memisahkan  presentasi logic dengan tampilannya yang diatur  oleh controller. Diharapkan dengan adanya aplikasi monitoring kegiatan asrama dengan konsep MVC (Model, View, Controller)  ini seluruh kegiatan asrama dapat terpantau dengan baik dan mudah. Selain itu berdasarkan hasil kuisioner yang telah dilakukan di asrama  menunjukkan persentase kesesuaian dan penilaian aplikasi sebesar 100% dapat disimpulkan bahwa aplikasi monitoring kegiatan asrama masuk dalam kategori baik dan layak untuk diimplementasikan.  \\n\\nKata Kunci : Monitoring, Asrama Mahasiswa, Framework Codeigniter MVC (Model, View, Controller).\\n'}\n"
     ]
    },
    {
     "name": "stderr",
     "output_type": "stream",
     "text": [
      "2022-11-15 07:17:09 [scrapy.core.engine] DEBUG: Crawled (200) <GET https://pta.trunojoyo.ac.id/welcome/detail/130411100020> (referer: None)\n"
     ]
    },
    {
     "name": "stderr",
     "output_type": "stream",
     "text": [
      "2022-11-15 07:17:09 [scrapy.core.engine] DEBUG: Crawled (200) <GET https://pta.trunojoyo.ac.id/welcome/detail/130411100022> (referer: None)\n"
     ]
    },
    {
     "name": "stderr",
     "output_type": "stream",
     "text": [
      "2022-11-15 07:17:09 [scrapy.core.engine] DEBUG: Crawled (200) <GET https://pta.trunojoyo.ac.id/welcome/detail/130411100021> (referer: None)\n"
     ]
    },
    {
     "name": "stderr",
     "output_type": "stream",
     "text": [
      "2022-11-15 07:17:09 [scrapy.core.engine] DEBUG: Crawled (200) <GET https://pta.trunojoyo.ac.id/welcome/detail/130411100023> (referer: None)\n"
     ]
    },
    {
     "name": "stderr",
     "output_type": "stream",
     "text": [
      "2022-11-15 07:17:09 [scrapy.core.scraper] DEBUG: Scraped from <200 https://pta.trunojoyo.ac.id/welcome/detail/130411100020>\r\n",
      "{'Abstrak': None}\n"
     ]
    },
    {
     "name": "stderr",
     "output_type": "stream",
     "text": [
      "2022-11-15 07:17:09 [scrapy.core.scraper] DEBUG: Scraped from <200 https://pta.trunojoyo.ac.id/welcome/detail/130411100022>\r\n",
      "{'Abstrak': None}\n"
     ]
    },
    {
     "name": "stderr",
     "output_type": "stream",
     "text": [
      "2022-11-15 07:17:09 [scrapy.core.scraper] DEBUG: Scraped from <200 https://pta.trunojoyo.ac.id/welcome/detail/130411100021>\r\n",
      "{'Abstrak': 'Proses registrasi Asrama saat ini membutuhkan waktu dan tenaga yang banyak serta proses rekap data yang belum terorganisir dengan baik. Aplikasi registrasi asrama dibuat untuk mengatasi masalah tersebut. Aplikasi ini dibangun dengan menerapkan konsep Model View Controller (MVC) yang memisahkan antara desain, data dan proses. Hasil penelitian ini menunjukkan bahwa  penerapan konsep MVC pada  aplikasi registrasi asrama dapat memudahkan developer dalam pembangunan aplikasi. Selain itu berdasarkan hasil perhitungan kuisioner yang telah dilakukan dari 6 jenis responden, dapat disimpulkan bahwa rata-rata presentase ketercapaian sistem yaitu sebesar 99.57%  menyatakan sesuai dan 0.42%  menyatakan tidak sesuai.'}\n"
     ]
    },
    {
     "name": "stderr",
     "output_type": "stream",
     "text": [
      "2022-11-15 07:17:09 [scrapy.core.scraper] DEBUG: Scraped from <200 https://pta.trunojoyo.ac.id/welcome/detail/130411100023>\r\n",
      "{'Abstrak': 'Fashion merupakan kebutuhan pokok bagi setiap orang. Semakin berkembangnya fashion saat ini dipengaruhi oleh banyaknya inovasi-inovasi yang diberikan toko dalam menjual pakaian untuk menarik minat pelanggan. Salah satunya adalah memberikan fasilitas kamar ganti kepada pelanggan, agar pelanggan dapat mencoba pakaian yang akan dibelinya. Namun, ternyata ada beberapa permasalahan yang terjadi yang dikeluhkan pelanggan, semisal : antrian kamar ganti yang panjang, keterbatasan tempat dan membautuhkan waktu lama jika pelanggan harus mencoba 2 atau 3 baju dengan model baju yang sama hanya untuk menentukan ukuran baju yang pas.\\nDari permasalahan tersebut munculah teknologi tentang kamar ganti virtual yang banyak dikembangkan oleh beberapa perusahaan fashion. Dalam penelitian ini membahas tentang salah satu metode untuk mengimplementasikan teknologi kamar ganti virtual yang akan menggunakan hardware kinect dan  teknologi Augmented Reality. Pemanfaatan fitur yang didapat dari kinect (yaitu : data skeleton user) untuk mendapatkan lebar badan pelanggan yang digunakan sebagai penentuan ukuran pakaian. Metode yang digunakan dalam penelitian ini untuk menghitung lebar badan pelanggan adalah menggunakan  Euclidean distance. Hasil eksperimen tehadap 20 pengguna menunjukan bahwa tingkat akurasi sistem mencapai kami 80% dalam memberikan rekomendasi ukuran pakaian yang sesuai dengan ukuran yang sebenarnya dari pelanggan.\\n'}\n"
     ]
    },
    {
     "name": "stderr",
     "output_type": "stream",
     "text": [
      "2022-11-15 07:17:10 [scrapy.core.engine] DEBUG: Crawled (200) <GET https://pta.trunojoyo.ac.id/welcome/detail/130411100026> (referer: None)\n"
     ]
    },
    {
     "name": "stderr",
     "output_type": "stream",
     "text": [
      "2022-11-15 07:17:10 [scrapy.core.engine] DEBUG: Crawled (200) <GET https://pta.trunojoyo.ac.id/welcome/detail/130411100024> (referer: None)\n"
     ]
    },
    {
     "name": "stderr",
     "output_type": "stream",
     "text": [
      "2022-11-15 07:17:10 [scrapy.core.scraper] DEBUG: Scraped from <200 https://pta.trunojoyo.ac.id/welcome/detail/130411100026>\r\n",
      "{'Abstrak': None}\n"
     ]
    },
    {
     "name": "stderr",
     "output_type": "stream",
     "text": [
      "2022-11-15 07:17:10 [scrapy.core.scraper] DEBUG: Scraped from <200 https://pta.trunojoyo.ac.id/welcome/detail/130411100024>\r\n",
      "{'Abstrak': 'Dalam pengelolaan administrasi umum masih ditemui beberapa masalah seperti hilangnya data, ketika input data, dan sulitnya ketika melakukan pencarian data. Hal ini di karenakan pencatatan datanya masih menggunakan cara manual. Dari masalah-masalah yang ada di administrasi umum, perlu adanya aplikasi agar masalah tersebut dapat teratasi.  Untuk mempermudah pengembangan dan penggabungan buku-buku dalam administrasi umum, aplikasi ini menggunakan konsep Hierarchical Model View Controller. Penerapan HMVC membuat aplikasi menjadi lebih modular karena tersusun dari modul-modul MVC untuk setiap buku. Dari hasil ujicoba aplikasi pengelolaan administrasi umum dengan menggunakan HMVC didapat kesimpulan, bahwa aplikasi ini sesuai dengan standart user dan standart developer. Sehingga, aplikasi ini mempermudah pengelolaan administrasi umum dan dengan HMVC mempermudah pengembangan aplikasi.'}\n"
     ]
    },
    {
     "name": "stderr",
     "output_type": "stream",
     "text": [
      "2022-11-15 07:17:10 [scrapy.core.engine] DEBUG: Crawled (200) <GET https://pta.trunojoyo.ac.id/welcome/detail/130411100025> (referer: None)\n"
     ]
    },
    {
     "name": "stderr",
     "output_type": "stream",
     "text": [
      "2022-11-15 07:17:10 [scrapy.core.engine] DEBUG: Crawled (200) <GET https://pta.trunojoyo.ac.id/welcome/detail/130411100027> (referer: None)\n"
     ]
    },
    {
     "name": "stderr",
     "output_type": "stream",
     "text": [
      "2022-11-15 07:17:10 [scrapy.core.scraper] DEBUG: Scraped from <200 https://pta.trunojoyo.ac.id/welcome/detail/130411100025>\r\n",
      "{'Abstrak': None}\n"
     ]
    },
    {
     "name": "stderr",
     "output_type": "stream",
     "text": [
      "2022-11-15 07:17:10 [scrapy.core.scraper] DEBUG: Scraped from <200 https://pta.trunojoyo.ac.id/welcome/detail/130411100027>\r\n",
      "{'Abstrak': None}\n"
     ]
    },
    {
     "name": "stderr",
     "output_type": "stream",
     "text": [
      "2022-11-15 07:17:10 [scrapy.core.engine] DEBUG: Crawled (200) <GET https://pta.trunojoyo.ac.id/welcome/detail/130411100030> (referer: None)\n"
     ]
    },
    {
     "name": "stderr",
     "output_type": "stream",
     "text": [
      "2022-11-15 07:17:10 [scrapy.core.engine] DEBUG: Crawled (200) <GET https://pta.trunojoyo.ac.id/welcome/detail/130411100029> (referer: None)\n"
     ]
    },
    {
     "name": "stderr",
     "output_type": "stream",
     "text": [
      "2022-11-15 07:17:10 [scrapy.core.engine] DEBUG: Crawled (200) <GET https://pta.trunojoyo.ac.id/welcome/detail/130411100028> (referer: None)\n"
     ]
    },
    {
     "name": "stderr",
     "output_type": "stream",
     "text": [
      "2022-11-15 07:17:11 [scrapy.core.engine] DEBUG: Crawled (200) <GET https://pta.trunojoyo.ac.id/welcome/detail/130411100031> (referer: None)\n"
     ]
    },
    {
     "name": "stderr",
     "output_type": "stream",
     "text": [
      "2022-11-15 07:17:11 [scrapy.core.scraper] DEBUG: Scraped from <200 https://pta.trunojoyo.ac.id/welcome/detail/130411100030>\r\n",
      "{'Abstrak': None}\n"
     ]
    },
    {
     "name": "stderr",
     "output_type": "stream",
     "text": [
      "2022-11-15 07:17:11 [scrapy.core.scraper] DEBUG: Scraped from <200 https://pta.trunojoyo.ac.id/welcome/detail/130411100029>\r\n",
      "{'Abstrak': 'Deteksi outlier merupakan salah satu penelitian yang penting dengan tujuan mencari data yang memiliki karakteristik yang berbeda dengan kebanyakan data lainya. Data outlier yang ada di  dataset akan mempengaruhi terhadap hasil dari proses selanjutnya seperti clustering dan klasifikasi dan terkadang outlier juga menyimpan informasi yang penting. Penelitian ini dimulai dengan pemotongan daerah penting pada citra yang dilakukan secara manual. Setelah mendapatkan citra dari proses sebelumnya, kemudian dilakukan ektraksi fitur warna dengan perhitungan statistik orde pertama yaitu mean, standard deviation, kurtosis dan skewness dan ektraksi fitur tekstur menggunakan algoritma Grey Level Co-Occurrence Matrix (GLCM) dengan jarak 1 dan sudut 0o dengan fitur yang  digunakan yaitu Angular Second Moment, Contras, Inverse Different Moment, Cluster Shade, dan Cluster Prominence. Setelah didapatkan fitur-fitur setiap citra kemudian dilakukan clustering dengan menggunakan Algoritma Clustering Large Applications Based on Randomized Search (CLARANS). Setelah proses clustering kemudian dilakukan deteksi outlier dengan menggunakan Algoritma unweighted-CBLOF. Dataset yang digunakan pada penelitian  ini adalah dataset Supermarket Produce dengan jumlah 2633 citra sebagai data normal dan data outlier sebanyak 50 diambil dari dataset Fruit Images. Hasil dari penelitian ini didapatkan fitur yang terbaik untuk deteksi outlier yaitu menggunakan fitur tekstur Grey Level Co-Occurrence Matrix (GLCM) dengan nilai akurasi sebesar 85,612 % dan penentuan jumlah kelas pada  Clustering Large Applications Based on Randomized Search (CLARANS) yang semakin meningkat belum tentu meningkatkan nilai akurasi, sehingga perlu dilakukan uji coba dengan beberapa jumlah kelas untuk mencari nilai akurasi yang paling tinggi.'}\n"
     ]
    },
    {
     "name": "stderr",
     "output_type": "stream",
     "text": [
      "2022-11-15 07:17:11 [scrapy.core.scraper] DEBUG: Scraped from <200 https://pta.trunojoyo.ac.id/welcome/detail/130411100028>\r\n",
      "{'Abstrak': '-'}\n"
     ]
    },
    {
     "name": "stderr",
     "output_type": "stream",
     "text": [
      "2022-11-15 07:17:11 [scrapy.core.scraper] DEBUG: Scraped from <200 https://pta.trunojoyo.ac.id/welcome/detail/130411100031>\r\n",
      "{'Abstrak': 'Epilepsi atau ayan adalah sebuah penyakit neurologi yaitu penyakit yang menyerang saraf otak. Penyakit ini menyebkan neuron pada otak mengeluarkan listrik yang berlebihan sehingga mengganggu saraf motorik. Dengan memanfaatkan data dari Elektroensefalogram (EEG) yang merupakan teknik untuk mengukur aktivitas kelistrikan pada otak dengan memasang elektoda disekitar kulit kepala, maka dapat membantu dalam mendiagnosa penderita epilepsi.\\nPenelitian ini bertujuan untuk mengklasifikasi hasil dari proses perekaman sinyal EEG untuk mendeteksi epilepsi. metode yang digunakan adalah time and frequency domain untuk proses ekstraksi fitur, Particle Swarm Optimization untuk ekstraksi fitur dan mahalonubis untuk klasifikasi. Data yang digunakan didapat dari Bern-Barcelona EEG database dengan jumlah keseluruhan data 3750 percobaan untuk 5 individu. Hasil dari penelitian ini didapatkan akurasi sebesar 78.67% dengan menggunakan 60% data sebagai data pelatihan dan menggunakan metode PSO untuk seleksi fitur.\\n'}\n"
     ]
    },
    {
     "name": "stderr",
     "output_type": "stream",
     "text": [
      "2022-11-15 07:17:13 [scrapy.core.engine] DEBUG: Crawled (200) <GET https://pta.trunojoyo.ac.id/welcome/detail/130411100033> (referer: None)\n"
     ]
    },
    {
     "name": "stderr",
     "output_type": "stream",
     "text": [
      "2022-11-15 07:17:13 [scrapy.core.engine] DEBUG: Crawled (200) <GET https://pta.trunojoyo.ac.id/welcome/detail/130411100035> (referer: None)\n"
     ]
    },
    {
     "name": "stderr",
     "output_type": "stream",
     "text": [
      "2022-11-15 07:17:13 [scrapy.core.engine] DEBUG: Crawled (200) <GET https://pta.trunojoyo.ac.id/welcome/detail/130411100037> (referer: None)\n"
     ]
    },
    {
     "name": "stderr",
     "output_type": "stream",
     "text": [
      "2022-11-15 07:17:13 [scrapy.core.engine] DEBUG: Crawled (200) <GET https://pta.trunojoyo.ac.id/welcome/detail/130411100034> (referer: None)\n"
     ]
    },
    {
     "name": "stderr",
     "output_type": "stream",
     "text": [
      "2022-11-15 07:17:13 [scrapy.core.engine] DEBUG: Crawled (200) <GET https://pta.trunojoyo.ac.id/welcome/detail/130411100036> (referer: None)\n"
     ]
    },
    {
     "name": "stderr",
     "output_type": "stream",
     "text": [
      "2022-11-15 07:17:13 [scrapy.core.engine] DEBUG: Crawled (200) <GET https://pta.trunojoyo.ac.id/welcome/detail/130411100032> (referer: None)\n"
     ]
    },
    {
     "name": "stderr",
     "output_type": "stream",
     "text": [
      "2022-11-15 07:17:13 [scrapy.core.scraper] DEBUG: Scraped from <200 https://pta.trunojoyo.ac.id/welcome/detail/130411100033>\r\n",
      "{'Abstrak': None}\n"
     ]
    },
    {
     "name": "stderr",
     "output_type": "stream",
     "text": [
      "2022-11-15 07:17:13 [scrapy.core.scraper] DEBUG: Scraped from <200 https://pta.trunojoyo.ac.id/welcome/detail/130411100035>\r\n",
      "{'Abstrak': None}\n"
     ]
    },
    {
     "name": "stderr",
     "output_type": "stream",
     "text": [
      "2022-11-15 07:17:13 [scrapy.core.engine] DEBUG: Crawled (200) <GET https://pta.trunojoyo.ac.id/welcome/detail/130411100039> (referer: None)\n"
     ]
    },
    {
     "name": "stderr",
     "output_type": "stream",
     "text": [
      "2022-11-15 07:17:13 [scrapy.core.scraper] DEBUG: Scraped from <200 https://pta.trunojoyo.ac.id/welcome/detail/130411100037>\r\n",
      "{'Abstrak': 'Dalam usaha mencapai prestasi yang baik dalam olahraga permainan bola voli, pemain bukan hanya ditekankan pada penguasaan teknik dan taktik saja, tetapi dituntut kondisi fisik yang baik, karena merupakan syarat-syarat penting dalam penguasaan keterampilan dalam permainan bola voli. Seorang pemain membutuhkan kondisi fisik yang baik untuk meningkatkan kualitas teknik. Dalam hal ini pelatih ingin tahu sejauh mana kondisi fisik pemain dari masing-masing individu, dengan mengoreksi kondisi fisik pemain bola voli yang baik. Untuk mempermudah dalam mengetahui kondisi fisik pemain maka diperlukan sistem pendukung keputusan yang dapat mengklasifikasi kondisi fisik pemain. Metode yang digunakan dalam sistem pendukung keputusan adalah naive bayes. Naive bayes merupakan salah satu metode di dalam data mining untuk mengklasifikasikan data. Metode ini dapat membantu pelatih dalam mengklasifikasi kondisi fisik setiap pemain bola voli dimana terdapat lima kategori yaitu baik sekali, baik, cukup, kurang dan kurang sekali. Dari hasil perhitungan metode naive bayes menghasilkan akurasi sebesar 85,71% dimana nilai yang didapat dari perbandingan antara perhitungan sistem dengan hasil perhitungan manual.\\n\\nKata Kunci : Kondisi Fisik, Naïve Bayess, Bola Voli'}\n"
     ]
    },
    {
     "name": "stderr",
     "output_type": "stream",
     "text": [
      "2022-11-15 07:17:13 [scrapy.core.scraper] DEBUG: Scraped from <200 https://pta.trunojoyo.ac.id/welcome/detail/130411100034>\r\n",
      "{'Abstrak': 'Diabetes Mellitus (DM) adalah penyakit yang berlangsung lama atau kronis serta ditandai dengan kadar gula (glukosa) darah yang tinggi atau di atas nilai normal. Glukosa yang menumpuk di dalam darah akibat tidak diserap sel tubuh dengan baik dapat menimbulkan berbagai gangguan organ tubuh. Jika diabetes tidak dikontrol dengan baik, dapat timbul berbagai komplikasi yang membahayakan nyawa penderita.  Kurangnya kesadaran masyarakat akan pola hidup sehat serta keterlambatan masyarakat menyadari gejala-gejala awal indikasi risiko penyakit DM sehingga tidak cepat ditangani. Dari permasalahan tersebut maka dibutuhkan sebuah langkah untuk membangun sistem klasifikasi untuk mendiagnosis penyakit DM. Sistem klasifikasi penyakit dapat dibangun dengan menggunakan metode K-Nearest Neighbor (KNN).  Metode KNN mampu mengklasifikasikan penyakit DM berdasarkan kedekatan pada data latih. Dari hasil pengujian penerapan metode K-Nearest Neighbor dalam mengklasifikasi penyakit diabetes mellitus didapatkan hasil akurasi sebesar 98%. hasil ini didapat dari perhitungan akurasi dengan menggunakan metode Confusion Matrix. '}\n"
     ]
    },
    {
     "name": "stderr",
     "output_type": "stream",
     "text": [
      "2022-11-15 07:17:13 [scrapy.core.scraper] DEBUG: Scraped from <200 https://pta.trunojoyo.ac.id/welcome/detail/130411100036>\r\n",
      "{'Abstrak': 'Skripsi merupakan hal yang penting dan selalu ada di sebuah universitas. Skripsi juga sebagai wujud hasil karya tulis ilmiah mahasiswa yang tercatat dan tersusun rapi sesuai dengan kaidah yang ditentukan. Saat ini permasalahan yang timbul dari proses pengajaun skripsi di lingkungan Universitas Trunojoyo Madura secara umum adalah proses pencarian serta penentuan sebuah judul skripsi yang tepat untuk diajukan mahasiswa dan tidak tersedianya data hasil skripsi mahasiswa yang tersusun secara sistematis dan komputerisasi, sehingga dalam pembuatan skripsi terdapat banyak kesamaan baik berupa judul maupun metode yang sering digunakan oleh mahasiswa, hal ini berdampak ketidak beragaman hasil skripsi buatan mahasiswa.\\nDengan adanya pengembangan aplikasi manajemen skripsi menggunakan framework codeigniter dan cosine similarity diharapkan bisa mengevaluasi, memonitoring, serta memperbaiki kinerja sistem yang manual menjadi sistem terkomputasi sekaligus meminimalisir kesamaan dan plagiatisme serta dapat meningkatkan pelayanan kepada mahasiswa yang mengajukan skripsi dengan mudah sesuai dengan aturan yang berlaku di lingkungan Universitas Trunojoyo Madura.\\n'}\n"
     ]
    },
    {
     "name": "stderr",
     "output_type": "stream",
     "text": [
      "2022-11-15 07:17:13 [scrapy.core.scraper] DEBUG: Scraped from <200 https://pta.trunojoyo.ac.id/welcome/detail/130411100032>\r\n",
      "{'Abstrak': None}\n"
     ]
    },
    {
     "name": "stderr",
     "output_type": "stream",
     "text": [
      "2022-11-15 07:17:13 [scrapy.core.scraper] DEBUG: Scraped from <200 https://pta.trunojoyo.ac.id/welcome/detail/130411100039>\r\n",
      "{'Abstrak': 'Electroencephalogram (EEG) merupakan teknik perekaman gelombang otak manusia melalui elektroda yang dipasang pada kulit kepala manusia. Hasil dari data sinyal yang didapat dapat digunakan sebagai identifikasi penderita epilepsi. Data yang digunakan dalam penelitian ini adalah data The Bern-Barcelona EEG database dengan 2 jenis data yaitu 5 subjek data focal dan 5 subjek data non-focal. Setiap subjek direkam dengan menggunakan 64 channel (penangkap sinyal) dan direkam dengan sampel 1024 Hz. Pada penelitian ini terdapat tiga tahap yang dilakukan. Tahap pertama ekstrasi fitur menggunakan Time and Frequency Distribution. Tahap kedua seleksi fitur menggunakan Genetic Algorithm. Dan tahap ketiga klasifikasi menggunakan Naïve Bayes. Hasil yang didapat dari percobaan adalah seleksi fitur memiliki pengaruh dalam sistem yaitu menambah tingkat akurasi dengan akurasi tertinggi mencapai 87.6 %.'}\n"
     ]
    },
    {
     "name": "stderr",
     "output_type": "stream",
     "text": [
      "2022-11-15 07:17:13 [scrapy.core.engine] DEBUG: Crawled (200) <GET https://pta.trunojoyo.ac.id/welcome/detail/130411100038> (referer: None)\n"
     ]
    },
    {
     "name": "stderr",
     "output_type": "stream",
     "text": [
      "2022-11-15 07:17:13 [scrapy.core.scraper] DEBUG: Scraped from <200 https://pta.trunojoyo.ac.id/welcome/detail/130411100038>\r\n",
      "{'Abstrak': 'Epilepsi adalah penyakit kelainan saraf pada otak. Menyerang manusia tanpa ada tanda – tanda akan terjadinya serangan epilepsi pada penderita. Epilepsi adalah penyakit yang bisa diturunkan oleh gen. factor pembawa epilepsi bisa berasal dari orangtua. Penyebab dari epilepsi masih belum diketahui\\n Epilepsi dapat dicegah semenjak dini mulai dari perawatan yang mahal ataupun murah di bidang medis. Jika epilepsi tidak bisa ditangani melalui pengobatan medis, maka operasi atau neurostimulation lah solusi terakhir. Dengan adanya penelitian ini, bertujuan untuk meng-identifikasi seseorang apakah teridentifikasi sebagai penderita atau tidak. Electroencephalogram(EEG) adalah metode untuk merekam informasi aktifitas otak pada manusia. Digunakan 3750 sampel yang akan dilakukan ekstraksi fitur menggunakan Haar Wavelet. Dilakukan proses untuk menguraikan sinyal kedalam 3 level yang disebut Decompose Level. Selanjutnya dilakukan proses klasifikasi dengan menggunakan metode Euclidean Distance untuk mendapatkan klasifikasi data. Proses selanjutnya akan dicari nilai akurasi penelitian menggunakan Haar Wavelet dengan tiap Decompose Level menggunakan Confusion Matrix.\\n Penelitian menghasilkan jangkauan nilai akurasi dari 78.80% - 78.97% dan menyimpulkan bahwa pengaruh decompose level terdapat pada waktu komputasi yang diperlukan\\n'}\n"
     ]
    },
    {
     "name": "stderr",
     "output_type": "stream",
     "text": [
      "2022-11-15 07:17:14 [scrapy.core.engine] DEBUG: Crawled (200) <GET https://pta.trunojoyo.ac.id/welcome/detail/130411100041> (referer: None)\n"
     ]
    },
    {
     "name": "stderr",
     "output_type": "stream",
     "text": [
      "2022-11-15 07:17:14 [scrapy.core.engine] DEBUG: Crawled (200) <GET https://pta.trunojoyo.ac.id/welcome/detail/130411100044> (referer: None)\n"
     ]
    },
    {
     "name": "stderr",
     "output_type": "stream",
     "text": [
      "2022-11-15 07:17:14 [scrapy.core.engine] DEBUG: Crawled (200) <GET https://pta.trunojoyo.ac.id/welcome/detail/130411100043> (referer: None)\n"
     ]
    },
    {
     "name": "stderr",
     "output_type": "stream",
     "text": [
      "2022-11-15 07:17:14 [scrapy.core.engine] DEBUG: Crawled (200) <GET https://pta.trunojoyo.ac.id/welcome/detail/130411100040> (referer: None)\n"
     ]
    },
    {
     "name": "stderr",
     "output_type": "stream",
     "text": [
      "2022-11-15 07:17:14 [scrapy.core.scraper] DEBUG: Scraped from <200 https://pta.trunojoyo.ac.id/welcome/detail/130411100041>\r\n",
      "{'Abstrak': 'Smart city semakin marak diperbincangkan guna menjadi solusi dalam memecahkan permasalahan yang timbul akibat dari dinamika kota yang semakin maju dan modern. Tujuan dari penerapan konsep smart city yakni untuk meningkatkan rasa aman, dan nyaman bagi warganya, membuat kota semakin efektif dan efisien serta meningkatkan daya saing dan pertumbuhan ekonomi serta pemerataan penghasilan. Madura merupakan sebuah pulau yang terletak disebelah utara pulau Jawa.  Pulau yang dijuluki tanah garam ini cukup dikenal dalam bidang kesenian kerapan sapi dan kerajinan batik, khususnya di Kabupaten Bangkalan. Kabupaten Bangkalan merupakan kota berkembang yang tepat untuk penerapan konsep smart city. Salah satu cara yang dapat dilakukan adalah memanfaatkan peluang kebutuhan pasar pecinta batik dengan memberikan kemudahan akses lokasi. Memanfaatkan teknologi pencarian lokasi Google maps dengan Metode Kartesius pada perangkat elektronik smartphone, konsumen akan dipermudah dalam hal pencarian informasi maupun lokasi pengrajin batik yang tersebar diseluruh wilayah Kabupaten Bangkalan.\\nKata Kunci : Smart City,  Batik, Google Maps, Metode Kartesius, Smartphone Android.'}\n"
     ]
    },
    {
     "name": "stderr",
     "output_type": "stream",
     "text": [
      "2022-11-15 07:17:14 [scrapy.core.scraper] DEBUG: Scraped from <200 https://pta.trunojoyo.ac.id/welcome/detail/130411100044>\r\n",
      "{'Abstrak': None}\n"
     ]
    },
    {
     "name": "stderr",
     "output_type": "stream",
     "text": [
      "2022-11-15 07:17:14 [scrapy.core.scraper] DEBUG: Scraped from <200 https://pta.trunojoyo.ac.id/welcome/detail/130411100043>\r\n",
      "{'Abstrak': None}\n"
     ]
    },
    {
     "name": "stderr",
     "output_type": "stream",
     "text": [
      "2022-11-15 07:17:14 [scrapy.core.scraper] DEBUG: Scraped from <200 https://pta.trunojoyo.ac.id/welcome/detail/130411100040>\r\n",
      "{'Abstrak': 'Alcoholism adalah kondisi seseorang dimana orang tersebut mengkonsumsi dan kecanduan terhadap minuman keras (alkohol). Salah satu cara mengetahui seseorang termasuk alcoholic (pecandu alkohol) atau tidak dengan cara merekam aktifitas yang terjadi di otak dengan cara menempelkan elektroda logam dan media konduktif pada kulit kepala atau bisa disebut dengan Electroencephalography (EEG). Dalam penelitian ini, sinyal EEG akan diklasifikasikan ke dalam dua kategori yaitu pecandu alkohol dan normal. Penelitian ini diawali dengan preprocessing menggunakan Independent Component Analysis (ICA), dimana pada proses preprocessing sinyal – sinyal EEG dibersihkan dari noise. Setelah sinyal bersih dari noise kemudian dilakukan ektraksi fitur menggunakan Discrete Wavelet Transform (DWT). Setelah didapatkan fitur dari sinyal EEG, kemudian dilakukan proses seleksi fitur menggunakan Genetic Algortihm (GA) guna mencari fitur – fitur terbaik dari sinyal EEG. Setelah fitur – fitur terbaik didapatkan barulah dilakukan proses klasifikasi menggunakan jaringan saraf tiruan Counterpropagation Network (CPN). Penelitian ini menghasilkan akurasi tertinggi yaitu 78,7% yang terjadi pada scenario 4. Jadi, dalam kasus ini metode CounterPropagation Network (CPN) kurang cocok digunakan untuk proses klasifikasi sinyal EEG.'}\n"
     ]
    },
    {
     "name": "stderr",
     "output_type": "stream",
     "text": [
      "2022-11-15 07:17:14 [scrapy.core.engine] DEBUG: Crawled (200) <GET https://pta.trunojoyo.ac.id/welcome/detail/130411100042> (referer: None)\n"
     ]
    },
    {
     "name": "stderr",
     "output_type": "stream",
     "text": [
      "2022-11-15 07:17:14 [scrapy.core.engine] DEBUG: Crawled (200) <GET https://pta.trunojoyo.ac.id/welcome/detail/130411100047> (referer: None)\n"
     ]
    },
    {
     "name": "stderr",
     "output_type": "stream",
     "text": [
      "2022-11-15 07:17:14 [scrapy.core.engine] DEBUG: Crawled (200) <GET https://pta.trunojoyo.ac.id/welcome/detail/130411100045> (referer: None)\n"
     ]
    },
    {
     "name": "stderr",
     "output_type": "stream",
     "text": [
      "2022-11-15 07:17:15 [scrapy.core.scraper] DEBUG: Scraped from <200 https://pta.trunojoyo.ac.id/welcome/detail/130411100042>\r\n",
      "{'Abstrak': 'Saat memasuki SSB (Sekolah Sepak Bola) seorang pemain berada di posisi yang di inginkan. Setelah menjadi pemain professional pemain tersebut kadang berubah posisi dari yang semestinya. Seorang pelatih akan menentukan posisi pemain yang tepat dalam permainan dengan melihat data pemain. Tugas inilah yang terkadang membuat pelatih kesulitan dalam membuat keputusan yang tepat dengan menilai pemain secara obyektif. Selain itu juga, pada umumnya proses pegambilan keputusan masih mengandalkan insting dari pelatih. Oleh karena itu, kehadiran teknologi sistem pendukung keputusan menentukan posisi pemain sepakbola oleh seorang pelatih tentulah sangat membantu untuk mencapai hasil maksimal dalam setiap pertandingan. Teknologi yang penulis tawarkan adalah membangun sistem pendukung keputusan pemilihan posisi pemain terbaik yang berasal dari data pemain menggunakan metode SAW (Simple Additive Weighting) dan Fuzzy. SAW (Simple Additive Weighting) merupakan metode penjumlahan terbobot. Konsep dasar metode SAW (Simple Additive Weighting) adalah mencari penjumlahan terbobot dari rating kinerja pada setiap alternatif pada semua kriteria. Sedangkan Fuzzy MADM digunakan untuk mencari alternatif dari sejumlah alternatif dengan kriteria tertentu.'}\n"
     ]
    },
    {
     "name": "stderr",
     "output_type": "stream",
     "text": [
      "2022-11-15 07:17:15 [scrapy.core.scraper] DEBUG: Scraped from <200 https://pta.trunojoyo.ac.id/welcome/detail/130411100047>\r\n",
      "{'Abstrak': '-'}\n"
     ]
    },
    {
     "name": "stderr",
     "output_type": "stream",
     "text": [
      "2022-11-15 07:17:15 [scrapy.core.scraper] DEBUG: Scraped from <200 https://pta.trunojoyo.ac.id/welcome/detail/130411100045>\r\n",
      "{'Abstrak': None}\n"
     ]
    },
    {
     "name": "stderr",
     "output_type": "stream",
     "text": [
      "2022-11-15 07:17:15 [scrapy.core.engine] DEBUG: Crawled (200) <GET https://pta.trunojoyo.ac.id/welcome/detail/130411100046> (referer: None)\n"
     ]
    },
    {
     "name": "stderr",
     "output_type": "stream",
     "text": [
      "2022-11-15 07:17:15 [scrapy.core.scraper] DEBUG: Scraped from <200 https://pta.trunojoyo.ac.id/welcome/detail/130411100046>\r\n",
      "{'Abstrak': 'Proses seleksi penerimaan tenaga kerja merupakan faktor penting yang harus diperhitungkan. Begitupun dengan masalah yang dihadapi PT Satya yang belum menggunakan kriteria tetap dalam seleksi penerimaan tenaga kerjanya. Solusi yang ditawarkan adalah dengan membuat sistem pendukung keputusan penerimaan satpam dengan metode Technique for Others Reference by Similarity to Ideal Solution (TOPSIS) yang merupakan salah satu metode dalam Multiple Attribute Decision Making (MADM) yang menyelesaikan dengan pengambilan keputusan mulitikriteria. Metode ini sangat sesuai dengan kebutuhan sistem dimana memiliki banyak kriteria.Penelitian ini menghasilkan aplikasi sistem pendukung keputusan yang dapat menghitung dan merangking berdasarkan kriteria yang telah dibobot perusahaan. Hasil pengujian berjalan sesuai yang direncanakan dan menghasilkan sebuah perangkingan dengan akurasi mencapai 66% yang dapat membantu HRD perusahaan .'}\n"
     ]
    },
    {
     "name": "stderr",
     "output_type": "stream",
     "text": [
      "2022-11-15 07:17:15 [scrapy.core.engine] DEBUG: Crawled (200) <GET https://pta.trunojoyo.ac.id/welcome/detail/130411100048> (referer: None)\n"
     ]
    },
    {
     "name": "stderr",
     "output_type": "stream",
     "text": [
      "2022-11-15 07:17:15 [scrapy.core.engine] DEBUG: Crawled (200) <GET https://pta.trunojoyo.ac.id/welcome/detail/130411100050> (referer: None)\n"
     ]
    },
    {
     "name": "stderr",
     "output_type": "stream",
     "text": [
      "2022-11-15 07:17:15 [scrapy.core.engine] DEBUG: Crawled (200) <GET https://pta.trunojoyo.ac.id/welcome/detail/130411100051> (referer: None)\n"
     ]
    },
    {
     "name": "stderr",
     "output_type": "stream",
     "text": [
      "2022-11-15 07:17:15 [scrapy.core.engine] DEBUG: Crawled (200) <GET https://pta.trunojoyo.ac.id/welcome/detail/130411100049> (referer: None)\n"
     ]
    },
    {
     "name": "stderr",
     "output_type": "stream",
     "text": [
      "2022-11-15 07:17:15 [scrapy.core.scraper] DEBUG: Scraped from <200 https://pta.trunojoyo.ac.id/welcome/detail/130411100048>\r\n",
      "{'Abstrak': None}\n"
     ]
    },
    {
     "name": "stderr",
     "output_type": "stream",
     "text": [
      "2022-11-15 07:17:15 [scrapy.core.scraper] DEBUG: Scraped from <200 https://pta.trunojoyo.ac.id/welcome/detail/130411100050>\r\n",
      "{'Abstrak': None}\n"
     ]
    },
    {
     "name": "stderr",
     "output_type": "stream",
     "text": [
      "2022-11-15 07:17:15 [scrapy.core.scraper] DEBUG: Scraped from <200 https://pta.trunojoyo.ac.id/welcome/detail/130411100051>\r\n",
      "{'Abstrak': None}\n"
     ]
    },
    {
     "name": "stderr",
     "output_type": "stream",
     "text": [
      "2022-11-15 07:17:15 [scrapy.core.scraper] DEBUG: Scraped from <200 https://pta.trunojoyo.ac.id/welcome/detail/130411100049>\r\n",
      "{'Abstrak': 'Sepak bola merupakan salah satu yang paling popular dalam penonton dan partisipasi dalam olahraga di dunia ini. Angka yang adamenunjukkan bahwa popularitas sepak bola tidak dibatasi oleh geografi, usia, budaya dan jenis kelamin. Dalam olahraga sepak bola, setiap pemain selain kiper dapat dikategorikan ke dalam salah satu dari tiga posisi: bek, gelandang, penyerang. Kombinasi dari gaya permainan yang berbeda dari pemain di lapangan disebut sebagai formasi. Sebuah formasi membutuhkan pemain yang sesuai dengan skema permainan. Pelatih memiliki wewenang tertinggi dalam menentukan pemain dan juga formasi tim. Kesalahan dalam menentukan pemain akan berakibat fatal pada sebuah tim yang tidak memenuhi ekspektasi tim dan juga dalam penentuan pemain yang dipilih oleh pelatih tidak sesuai antara standar yang diinginkan pelatih dengan skill atau kemampuan tiap pemain. Untuk mempermudah dalam menentukan pemain dibutuhkan sistem yang bisa merekemondasikan pemain yang mampu menyeleksi dan memilih pemain yang terbaik dari nilai-nilai tiap pemain dan kemudian pemain yang terpilih dibentuk dengan gaya dan skema permainan yang diinginkan. Dengan menggunakan metode fuzzy tsukamoto sekiranya bisa membantu menghasilkan starting line up sepak bola sesuai harapan. Dari hasil akhir perhitungan metode fuzzy tsukamoto bisa diketahui nilai akhir setiap pemain dan pelatih bisa melihat dan menentukan pemain yang layak untuk starting line up. Hasil dari penilaian metode fuzzy tsukamoto ini menghasilkan akurasi 67%, dimana nilai didapat dari perbandingan antara rekomendasi hasil sistem dan rekomendasi dari line up pelatih saat pertandingan.'}\n"
     ]
    },
    {
     "name": "stderr",
     "output_type": "stream",
     "text": [
      "2022-11-15 07:17:16 [scrapy.core.engine] DEBUG: Crawled (200) <GET https://pta.trunojoyo.ac.id/welcome/detail/130411100052> (referer: None)\n"
     ]
    },
    {
     "name": "stderr",
     "output_type": "stream",
     "text": [
      "2022-11-15 07:17:16 [scrapy.core.engine] DEBUG: Crawled (200) <GET https://pta.trunojoyo.ac.id/welcome/detail/130411100054> (referer: None)\n"
     ]
    },
    {
     "name": "stderr",
     "output_type": "stream",
     "text": [
      "2022-11-15 07:17:16 [scrapy.core.engine] DEBUG: Crawled (200) <GET https://pta.trunojoyo.ac.id/welcome/detail/130411100055> (referer: None)\n"
     ]
    },
    {
     "name": "stderr",
     "output_type": "stream",
     "text": [
      "2022-11-15 07:17:16 [scrapy.core.engine] DEBUG: Crawled (200) <GET https://pta.trunojoyo.ac.id/welcome/detail/130411100053> (referer: None)\n"
     ]
    },
    {
     "name": "stderr",
     "output_type": "stream",
     "text": [
      "2022-11-15 07:17:16 [scrapy.core.scraper] DEBUG: Scraped from <200 https://pta.trunojoyo.ac.id/welcome/detail/130411100052>\r\n",
      "{'Abstrak': None}\n"
     ]
    },
    {
     "name": "stderr",
     "output_type": "stream",
     "text": [
      "2022-11-15 07:17:16 [scrapy.core.scraper] DEBUG: Scraped from <200 https://pta.trunojoyo.ac.id/welcome/detail/130411100054>\r\n",
      "{'Abstrak': 'Dalam mengatasi permasalahan kemiskinan, Kabupaten Sampang  melaksanakan program Gerakan Bersama Menuju Sampang Harmonis Dan Bermartabat di mana program ini merupakan komitmen antara bupati sampang dengan gubernur profinsi jawa timur yang di amanatkan dalam rencana pembangunan jangka menengah daerah kabupaten sampang dalam mengentaskan kemiskinan di sampang yang memiliki angka kamiskinan paling tinggi se-jawa timur[1]. Karena tingginya kemiskinan tersebut di butukan sebuah sistem yang dapat merangking keluarga miskin, untuk itu dalam penelitian ini di bangun sebuah sistem pendukung keputusan dengan menggunakan metode Simple Multi-Atribut Ranting Technique Exploitng Ranks  di mana metode tersebut merupakan bagian dari metode Multiple Criteria Decision Making.  Hasil yang di peroleh sistem dapat merangking keluarga miskin dengan efisien (cepat dan mudah), yang kelayakannyadi ukur menggunakan metode descriptive statistical .'}\n"
     ]
    },
    {
     "name": "stderr",
     "output_type": "stream",
     "text": [
      "2022-11-15 07:17:16 [scrapy.core.scraper] DEBUG: Scraped from <200 https://pta.trunojoyo.ac.id/welcome/detail/130411100055>\r\n",
      "{'Abstrak': 'Peramalan adalah proses untuk memperkirakan beberapa kebutuhan dimasa mendatang yang meliputi kebutuhan dalam ukuran kuantitas, kualitas, waktu dan lokasi yang dibutuhkan dalam rangka memenuhi permintaan barang ataupun jasa. Untuk menjalankan penjualan dengan baik, Toko Deeolshop membutuhkan sebuah sistem yang membantu dalam peningkatan penjualan. Toko Deeolshop belum memiliki sistem terstandar dalam mengatur perencanaan stok barang. Perencanaan biasanya hanya dilakukan berdasarkan pengalaman dan perkiraan pemilik saja,\\nsehingga toko saat ini masih mengalami kendala dalam pengelolaan persediaannya, dimana stok barang seringkali mengalami kekurangan ataupun penumpukan stok barang di gudang. Berdasarkan permasalahan diatas, diperlukan adanya suatu sistem yang dapat membantu memprediksi stok barang untuk bulan berikutnya. Metode yang digunakan untuk melakukan peramalan pada sistem ini adalah metode Double Moving Average. Peramalan stok ini menggunakan acuan data hasil penjualan pada periode-periode sebelumnya. Metode tersebut digunakan untuk meramalkan banyaknya stok barang untuk periode berikutnya. Tingkat akurasi peramalan dihitung dengan MAPE dan diperoleh sebesar 10,36% dan menghasilkan akurasi sebesar 89.64%. Hasil peramalan item Totebag Zara untuk bulan berikutnya yaitu sebanyak 840 pcs. Dengan adanya sistem ini diharapkan Toko Deeolshop dapat lebih cepat dan efisien dalam menentukan stok barang, sehingga tidak akan terjadi kekurangan stok ataupun penumpukan stok barang.'}\n"
     ]
    },
    {
     "name": "stderr",
     "output_type": "stream",
     "text": [
      "2022-11-15 07:17:16 [scrapy.core.scraper] DEBUG: Scraped from <200 https://pta.trunojoyo.ac.id/welcome/detail/130411100053>\r\n",
      "{'Abstrak': 'Dalam proses pengambilan keputusan terdapat banyak kriteria dan banyak pula metode yang digunakan. Permasalahannya adalah bagaimana menentukan kriteria-kriteria dan metode-metode yang tepat untuk mendukung proses pengambilan keputusan dalam membantu pemilihan guru teladan SMP di Sampang. Dikarenakan saat ini dalam pemilihan guru SMP di Sampang belum mempunyai program aplikasi yang dapat mendukung proses pemilihan guru teladan sehingga masih menggunakan sistem penilaian secara manual (Ms. Office) sehingga pada prosesnya masih terdapat masalah-masalah seperti memerlukan waktu yang lama dan adanya kemungkinan terjadinya kesalahan pada proses perankingan guru teladan. Untuk mengatasi masalah-masalah yang terjadi maka diperlukan sebuah sistem informasi yang tepat guna dan sesuai dengan kebutuhan yaitu sistem pendukung keputusan. Pada penelitian ini penulis akan menggunakan metode WP (Weighted Product) dalam menentukan alternatif terbaik pemilihan guru teladan SMP di Sampang.  Dari hasil pengujian yang telah dilakukan, perankingan pemilihan guru teladan dengan menggunakan metode Weighted Product dari 12 data memiliki tingkat akurasi sebesar 75 %. Hal ini menunjukkan bahwa penggunaan metode Weighted Product dalam sistem pendukung keputusan ini berhasil.'}\n"
     ]
    },
    {
     "name": "stderr",
     "output_type": "stream",
     "text": [
      "2022-11-15 07:17:16 [scrapy.core.engine] DEBUG: Crawled (200) <GET https://pta.trunojoyo.ac.id/welcome/detail/130411100056> (referer: None)\n"
     ]
    },
    {
     "name": "stderr",
     "output_type": "stream",
     "text": [
      "2022-11-15 07:17:17 [scrapy.core.scraper] DEBUG: Scraped from <200 https://pta.trunojoyo.ac.id/welcome/detail/130411100056>\r\n",
      "{'Abstrak': '-'}\n"
     ]
    },
    {
     "name": "stderr",
     "output_type": "stream",
     "text": [
      "2022-11-15 07:17:17 [scrapy.core.engine] DEBUG: Crawled (200) <GET https://pta.trunojoyo.ac.id/welcome/detail/130411100058> (referer: None)\n"
     ]
    },
    {
     "name": "stderr",
     "output_type": "stream",
     "text": [
      "2022-11-15 07:17:17 [scrapy.core.engine] DEBUG: Crawled (200) <GET https://pta.trunojoyo.ac.id/welcome/detail/130411100059> (referer: None)\n"
     ]
    },
    {
     "name": "stderr",
     "output_type": "stream",
     "text": [
      "2022-11-15 07:17:17 [scrapy.core.engine] DEBUG: Crawled (200) <GET https://pta.trunojoyo.ac.id/welcome/detail/130411100057> (referer: None)\n"
     ]
    },
    {
     "name": "stderr",
     "output_type": "stream",
     "text": [
      "2022-11-15 07:17:17 [scrapy.core.scraper] DEBUG: Scraped from <200 https://pta.trunojoyo.ac.id/welcome/detail/130411100058>\r\n",
      "{'Abstrak': None}\n"
     ]
    },
    {
     "name": "stderr",
     "output_type": "stream",
     "text": [
      "2022-11-15 07:17:17 [scrapy.core.scraper] DEBUG: Scraped from <200 https://pta.trunojoyo.ac.id/welcome/detail/130411100059>\r\n",
      "{'Abstrak': None}\n"
     ]
    },
    {
     "name": "stderr",
     "output_type": "stream",
     "text": [
      "2022-11-15 07:17:17 [scrapy.core.scraper] DEBUG: Scraped from <200 https://pta.trunojoyo.ac.id/welcome/detail/130411100057>\r\n",
      "{'Abstrak': 'Toko tas Deeolshop menjual berbagai macam tas model kekinian yang dijual secara online maupun offline. Permasalahan muncul ketika semakin banyaknya transaksi penjualan dan semakin banyak macam-macam tas yang dijual . Akibatnya, toko sering mengalami kekurangan stok sehingga tidak dapat memenuhi permintaan pelanggan dan kelebihan stok sehingga terjadi penumpukan barang digudang. Permasalahan ini timbul karena pengelolaan persediaan barang dilakukan secara manual dan tidak memiliki acuan yang pasti tentang jumlah barang yang harus dipesan dan kapan harus melakukan pemesanan barang. Pemesanan baru dilakukan jika stok barang tertentu hampir habis, dengan jumlah yang mengacu pada penggunaan sebelumnya sehingga persediaan barang tidak akurat. Untuk meminimalkan dan mengatasi permalasalahan tersebut perlu adanya sistem peramalan stok barang dengan memprediksi hasil penjualan barang dimasa mendatang berdasarkan data yang telah direkam sebelumnya. Prediksi tersebut sangat berpengaruh pada keputusan untuk menentukan jumlah barang yang akan dijual dibulan yang akan datang. Metode yang digunakan dalam penelitian ini adalah Double Exponential Smoothing karena metode ini tergolong dalam metode time series ( runtut waktu ) yang mempergunakan data masa lalu untuk memprediksi sesuai dimasa yang akan datang. Dari penelitian ini, menghasilkan nilai MAPE terkecil dengan menggunakan alpha 0,4 sebesar 8,83%. Hasil peramalan item Totebag Zara  untuk bulan berikutnya sebesar 911 pcs. Dengan adanya sistem ini diharapkan Toko Deeolshop dapat lebih cepat dan efisien dalam menentukan stok barang, sehingga tidak akan terjadi kekurangan stok ataupun penumpukan stok barang.\\n \\nKata kunci : Sistem, Peramalan, Double Exponential Smoothing, Penjualan  \\n'}\n"
     ]
    },
    {
     "name": "stderr",
     "output_type": "stream",
     "text": [
      "2022-11-15 07:17:17 [scrapy.core.engine] DEBUG: Crawled (200) <GET https://pta.trunojoyo.ac.id/welcome/detail/130411100060> (referer: None)\n"
     ]
    },
    {
     "name": "stderr",
     "output_type": "stream",
     "text": [
      "2022-11-15 07:17:17 [scrapy.core.engine] DEBUG: Crawled (200) <GET https://pta.trunojoyo.ac.id/welcome/detail/130411100061> (referer: None)\n"
     ]
    },
    {
     "name": "stderr",
     "output_type": "stream",
     "text": [
      "2022-11-15 07:17:17 [scrapy.core.engine] DEBUG: Crawled (200) <GET https://pta.trunojoyo.ac.id/welcome/detail/130411100062> (referer: None)\n"
     ]
    },
    {
     "name": "stderr",
     "output_type": "stream",
     "text": [
      "2022-11-15 07:17:17 [scrapy.core.engine] DEBUG: Crawled (200) <GET https://pta.trunojoyo.ac.id/welcome/detail/130411100063> (referer: None)\n"
     ]
    },
    {
     "name": "stderr",
     "output_type": "stream",
     "text": [
      "2022-11-15 07:17:17 [scrapy.core.scraper] DEBUG: Scraped from <200 https://pta.trunojoyo.ac.id/welcome/detail/130411100060>\r\n",
      "{'Abstrak': None}\n"
     ]
    },
    {
     "name": "stderr",
     "output_type": "stream",
     "text": [
      "2022-11-15 07:17:17 [scrapy.core.scraper] DEBUG: Scraped from <200 https://pta.trunojoyo.ac.id/welcome/detail/130411100061>\r\n",
      "{'Abstrak': 'Kesehatan gigi dan mulut merupakan hal yang sangat penting bagi setiap orang. Terkadang orang tidak terlalu memikirkan masalah terhadap kesehatan giginya sehingga secara tidak langsung mengalami sakit gigi atau terkena penyakit gigi dan mulut. Dengan begitu penanganan dan perawatan yang tepat dapat membantu penyembuhan penyakit gigi lebih cepat, namun sebaliknya jika penanganannya tidak tepat maka kemungkinan menambah permasalahan pada kesehatan giginya, kemampuan analisa yang tepat dan akurat merupakan hal penting yang diperlukan dalam melakukan diagnosa penyakit. Dalam hal ini, untuk mengatasi permasalahan tersebut salah satu solusinya adalah sistem pakar yang dapat mendiagnosa penyakit gigi dan mulut, agar dapat melakukan pencegahan lebih awal. Sistem pakar tersebut mengadopsi pengetahuan para ahli dibidangnya. Sistem pakar yang dibangun menggunakan metode Naive Bayes, metode ini sangat cocok dalam pengambilan keputusan untuk mendiagnosa penyakit gigi dan mulut karena menggunakan konsep yang sederhana dan mudah dipahami. Sistem yang dibangun berbasis web untuk memudahkan dalam penggunaanya, sehingga dapat digunakan oleh masyarakat luas. Pengujian sistem menggunakan 90 data dan dilakukan 3 uji coba atau skenario. Dari hasil uji konsultasi dengan sistem ini menunjukkan bahwa sistem mampu menentukan penyakit dengan presentase tingkat akurasi keberhasil sebesar 70%. \\n\\n'}\n"
     ]
    },
    {
     "name": "stderr",
     "output_type": "stream",
     "text": [
      "2022-11-15 07:17:17 [scrapy.core.scraper] DEBUG: Scraped from <200 https://pta.trunojoyo.ac.id/welcome/detail/130411100062>\r\n",
      "{'Abstrak': 'Banyaknya jumlah IKM (Industri Kecil Menengah) yang masuk kedalam data calon penerima bantuan Restrukturisasi Mesin di DISPERINDAG BANGKALAN menyebabkan adanya kesulitan dalam menentukan IKM yang tepat untuk penerimaan bantuan tersebut, dimana proses penyaluran yang dilakukan secara manualpun dirasa belum cukup efektif untuk diterapkan. Oleh sebab itu, perlu adanya suatu metode yang dirancang kedalam sebuah sistem pendukung keputusan  yang dapat mencakup kriteria-kriteria penilaian serta mampu menyimpan data-data yang berkaitan dengan pemilihan Industri Kecil Menengah (IKM) di Bangkalan. Dari sekian banyak metode yang dapat dilandaskan untuk sistem pendukung keputusan terdapat satu metode yang dianggap tepat, yakni Metode TOPSIS (Technique For Order Reference by Similarity to Ideal Solution). TOPSIS memiliki konsep dimana alternatif (kandidat) yang terpilih merupakan alternatif terbaik yang memiliki jarak terpendek dari solusi ideal positif dan jarak terjauh dari solusi ideal negatif. Hasil dari penentuan kriteria pemilihan didapatkan tujuh kriteria yang digunakan yaitu Investasi, Tenaga Kerja, Legalitas Usaha, Izin Industri, Sertifikat SNI, Partisipasi dan Mesin.Penerapan aplikasi ini diharapkan dapat memberikan kontribusi yang besar khususnya kepada pihak DESPERINDAG dalam sisi eferktifitas dan efisiensi waktu. '}\n"
     ]
    },
    {
     "name": "stderr",
     "output_type": "stream",
     "text": [
      "2022-11-15 07:17:17 [scrapy.core.scraper] DEBUG: Scraped from <200 https://pta.trunojoyo.ac.id/welcome/detail/130411100063>\r\n",
      "{'Abstrak': 'Striker adalah pemain yang berada di barisan depan dan berhadapan langsung dengan bek lawan, tugasnya adalah memasukkan bola ke gawang lawan. Seorang striker harus  memiliki akurasi shooting atau tendangan yang baik. Bukan hanya itu saja, seorang striker juga harus bisa membuka ruang tembak dan membuat peluang yang baik  untuk dirinya sendiri sehingga dapat mencetak gol, untuk itu dibutuhkan kejelian yang bagus dari seorang pelatih sepakbola dalam hal memilih striker. Seorang pelatih dalam memilih striker tidak hanya mengandalkan pengamatannya saja, tetapi harus melihat catatan data yang signifikan yang dapat mendukung keputusan tersebut, maka dibutuhkan sistem pendukung keputusan untuk menyelesaikan masalah tersebut. Sistem ini menerapkan metode WP (Weight Product) yang tujuannya memberikan rekomendasi kepada pelatih untuk pemilihan posisi setiap pemain, serta mengetahui kebutuhan team pemain mana yang cocok ditempatkan pada posisi striker. Dari hasil penelitian WP (Weight Product) dapat diimplementasikan dalam sistem pemilihan striker dan memiliki nilai akurasi 55% yang didapatkan dari hasil perbandingan antara hasil perhitungan sistem dengan data rekomendasi pelatih.\\nKata kunci : Sepakbola, Pemilihan Striker , WP (Weight Product).\\n'}\n"
     ]
    },
    {
     "name": "stderr",
     "output_type": "stream",
     "text": [
      "2022-11-15 07:17:18 [scrapy.core.engine] DEBUG: Crawled (200) <GET https://pta.trunojoyo.ac.id/welcome/detail/130411100064> (referer: None)\n"
     ]
    },
    {
     "name": "stderr",
     "output_type": "stream",
     "text": [
      "2022-11-15 07:17:18 [scrapy.core.engine] DEBUG: Crawled (200) <GET https://pta.trunojoyo.ac.id/welcome/detail/130411100067> (referer: None)\n"
     ]
    },
    {
     "name": "stderr",
     "output_type": "stream",
     "text": [
      "2022-11-15 07:17:18 [scrapy.core.engine] DEBUG: Crawled (200) <GET https://pta.trunojoyo.ac.id/welcome/detail/130411100065> (referer: None)\n"
     ]
    },
    {
     "name": "stderr",
     "output_type": "stream",
     "text": [
      "2022-11-15 07:17:18 [scrapy.core.engine] DEBUG: Crawled (200) <GET https://pta.trunojoyo.ac.id/welcome/detail/130411100066> (referer: None)\n"
     ]
    },
    {
     "name": "stderr",
     "output_type": "stream",
     "text": [
      "2022-11-15 07:17:18 [scrapy.core.scraper] DEBUG: Scraped from <200 https://pta.trunojoyo.ac.id/welcome/detail/130411100064>\r\n",
      "{'Abstrak': 'Madura memiliki berbagai macam tempat wisata yang menarik. Banyaknya pantai yang eksotis, serta tempat wisata lain yang tidak kalah menarik, membuat Madura memiliki potensi pariwisata yang tinggi. Sayangnya dengan berbagai tempat wisata yang menarik tersebut, masih banyak masyarakat luas yang belum mengetahui lokasi – lokasi wisata tersebut berada, tempat wisata di madura juga membutuhkan wadah promosi untuk menunjang kemajuan wisatanya.\\nPenelitian ini ditujukan untuk membuat aplikasi Digital Guide dengan menggunakan konsep Location Based Service (LBS), LBS  digunakan untuk mengetahui informasi suatu lokasi sesuai dengan koordinat tersebut sehingga dapat mengetahui jarak lokasi tersebut dari lokasi pengguna. Teknologi Augmented Reality digunakan pengguna menggunakan kamera smartphone untuk mengetahui letak lokasi wisata yang akan dituju.\\nDari hasil penelitian yang dilakukan, didapat hasil bahwa pada fitur augmented reality membutuhkan setidaknya 2 kali percobaan untuk bisa mengaksesnya menggunakan koneksi internet. Dan dari hasil ujicoba User Experience yang berbentuk kuisioner kepada responden didapat hasil 1060 dari 1200 skala nilai maksimal yang menunjukkan tingkat kepuasan cukup bagus. \\n\\nKata Kunci: Location Based Servise, Global Positioning System, Android, Smartphone, Wisata Madura, Augmented Reality.\\n'}\n"
     ]
    },
    {
     "name": "stderr",
     "output_type": "stream",
     "text": [
      "2022-11-15 07:17:18 [scrapy.core.scraper] DEBUG: Scraped from <200 https://pta.trunojoyo.ac.id/welcome/detail/130411100067>\r\n",
      "{'Abstrak': 'Kabupaten Bangkalan merupakan salah satu kabupaten yang mempunyai potensi Usaha Mikro Kecil dan Menengah (UMKM) yang cukup banyak. Tercatat ada 166,768 UMKM yang terdapat di Rekapitulasi Data UMKM Kabupaten Bangkalan pada Dinas Koperasi dan UMKM Bangkalan. Dari sekian banyaknya UMKM tersebut, masalah yang di hadapi adalah kurangnya media informasi secara detail terkait letak lokasi dan jenis-jenis produk UMKM yang dihasilkan di setiap wilayah kepada masyarakat umum Bangkalan maupun kepada masyarakat (asing) luar Bangkalan. Sehingga dibuatlah sebuah aplikasi web berbasis Sistem Informasi Geografis Pemetaan pada Usaha Mikro, Kecil dan Menengah (UMKM) di Bangkalan dengan menggunakan 15 data evaluator menunjukkan hasil nilai rata-rata berdasarkan nilai penggunaan sistem sebesar 86,25% dan berdasarkan nilai desain dan tampilan sistem sebesar 84,5% atau bisa dikatakan Aplikasi sudah mencapai tujuan yang diharapkan.'}\n"
     ]
    },
    {
     "name": "stderr",
     "output_type": "stream",
     "text": [
      "2022-11-15 07:17:18 [scrapy.core.scraper] DEBUG: Scraped from <200 https://pta.trunojoyo.ac.id/welcome/detail/130411100065>\r\n",
      "{'Abstrak': 'Penyakit Stroke merupakan penyakit mematikan di Indonesia yang menempati urutan nomer tiga setelah Jantung dan Kanker. Sesuai dengan pengamatan dan peninjauan Yayasan Stroke Indonesia (Yastroki) di rumah sakit maupun yang berada dalam masyarakat, terdapat kecenderungan meningkatnya jumlah penyandang stroke di Indonesia. Untuk mendukung para pakar dalam mendiagnosa penyakit stroke maka dibangunlah suatu sistem pakar. Sistem ini dibangun menggunakan Metode Certainty Factor, yaitu suatu metode untuk membuktikan apakah suatu fakta itu pasti ataukah tidak pasti yang berbentuk matrik yang biasanya digunakan dalam sistem pakar. Hasil dari penelitian ini diharapkan dapat mendukung pakar dalam mendiagnosa penyakit Stroke. Dari penelitian ini telah dihasilkan sistem pakar untuk mendiagnosa penyakit Stroke dan setelah dilakukan pengujian dengan 21 data pasien, diperoleh nilai akurasi sebesar 66,67%. '}\n"
     ]
    },
    {
     "name": "stderr",
     "output_type": "stream",
     "text": [
      "2022-11-15 07:17:18 [scrapy.core.scraper] DEBUG: Scraped from <200 https://pta.trunojoyo.ac.id/welcome/detail/130411100066>\r\n",
      "{'Abstrak': 'Acute Lymphoblastic Leukemia (ALL) adalah salah satu jenis leukemia. Leukemia merupakan jenis kanker yang terjadi pada darah dan sumsum tulang belakang. Penyakit Leukemia yang tidak mengenal usia menjadi momok bagi masyarakat karena sering terjadi keterlambatan penanganan. Hal ini terjadi karena mahalnya biaya identifikasi dengan menggunakan reaksi kimia. Menggunakan reaksi kimia ini juga membutuh tenaga dan waktu yang lama.  Mengatasi hal tersebut, dilakukan identifikasi leukemia pada citra sel darah putih. Citra darah terdiri dari sel darah putih dan background. Pemisahan sel darah putih dengan background, proses ini dinama proses segmentasi. Metode segmentasi yang dipakai metode morfologi matematis. Proses pencarian ciri menggunakan fitur tekstur metode Gray Level Co-Occurence Matrix (GLCM) dan fitur bentuk. Proses klasifikasi menggunakan metode Learning Vector Quantization(LVQ). Database menggunakan ALL-IDB2 sebanyak 260 citra, terdiri dari 130 citra positif ALL dan 130 citra negatif ALL. Klasifikasi ALL menggunakan Learning Vector Quantization(LVQ) memperlihatkan hasil rata-rata akurasi sebesar 74,59 %.'}\n"
     ]
    },
    {
     "name": "stderr",
     "output_type": "stream",
     "text": [
      "2022-11-15 07:17:18 [scrapy.core.engine] DEBUG: Crawled (200) <GET https://pta.trunojoyo.ac.id/welcome/detail/130411100068> (referer: None)\n"
     ]
    },
    {
     "name": "stderr",
     "output_type": "stream",
     "text": [
      "2022-11-15 07:17:19 [scrapy.core.scraper] DEBUG: Scraped from <200 https://pta.trunojoyo.ac.id/welcome/detail/130411100068>\r\n",
      "{'Abstrak': None}\n"
     ]
    },
    {
     "name": "stderr",
     "output_type": "stream",
     "text": [
      "2022-11-15 07:17:19 [scrapy.core.engine] DEBUG: Crawled (200) <GET https://pta.trunojoyo.ac.id/welcome/detail/130411100069> (referer: None)\n"
     ]
    },
    {
     "name": "stderr",
     "output_type": "stream",
     "text": [
      "2022-11-15 07:17:19 [scrapy.core.engine] DEBUG: Crawled (200) <GET https://pta.trunojoyo.ac.id/welcome/detail/130411100070> (referer: None)\n"
     ]
    },
    {
     "name": "stderr",
     "output_type": "stream",
     "text": [
      "2022-11-15 07:17:19 [scrapy.core.engine] DEBUG: Crawled (200) <GET https://pta.trunojoyo.ac.id/welcome/detail/130411100071> (referer: None)\n"
     ]
    },
    {
     "name": "stderr",
     "output_type": "stream",
     "text": [
      "2022-11-15 07:17:19 [scrapy.core.scraper] DEBUG: Scraped from <200 https://pta.trunojoyo.ac.id/welcome/detail/130411100069>\r\n",
      "{'Abstrak': 'Proses rekrutmen dalam suatu perusahaan atau organisasi biasanya diikuti oleh banyak pelamar yang ingin mendaftar. Pada saat itu, biasanya menemukan kasus kesalahan proses rekrutmen di sebuah perusahaan atau organisasi. Juga dimungkinkan di PT. Satya Multi Sukses. Ini sebenarnya tergantung pada pihak agen yang akan melakukan seleksi penerimaannya sendiri. Sebenarnya, proses pemilihan karyawan sesuai dengan kemampuan intelektual dan kemampuan untuk bekerja sesuai dengan kualitasnya sangat sulit untuk dibedakan. Ada beberapa kriteria penilaian dalam proses pengambilan keputusan perekrutan di PT. Satya Multi Sukses. Adapun penilaian didasarkan pada kriteria pendidikan, pekerjaan pengalaman, usia, memiliki kendaraan, dan SIM. Tujuan yang ingin dicapai adalah menciptakan sebuah sistem yang dapat membantu pengambil keputusan untuk menentukan proses rekrutmen secara optimal dengan menggunakan metode Simple Additive Weighting. Hasil penelitian bertujuan membangun sistem pendukung keputusan untuk penerimaan calon kurir, dan akhirnya bisa digunakan sebagai penunjang keputusan untuk pihak majemen perusahaan.'}\n"
     ]
    },
    {
     "name": "stderr",
     "output_type": "stream",
     "text": [
      "2022-11-15 07:17:19 [scrapy.core.scraper] DEBUG: Scraped from <200 https://pta.trunojoyo.ac.id/welcome/detail/130411100070>\r\n",
      "{'Abstrak': 'Acute Lymphoblastic Leukemia (ALL) merupakan penyakit kanker yang ditandai dengan pertumbuhan sel darah putih yang sangat cepat dan mematikan. Apabila tidak segera diobati akan menyebabkan kematian dalam hitungan minggu hingga hari, untuk itu perlu penanganan secara cepat. Diagnosa penyakit ALL kebanyakan dilakukan secara manual, membutuhkan tenaga ahli, peralatan laboratorium yang memadai serta waktu yang cukup lama. Untuk mengatasi permasalahan tersebut pada penelitian ini dilakukan identifikasi Acute Lymphoblastic Leukemia menggunakan teknik pengolahan citra. Adapun tahapan-tahapan yang dilakukan adalah preprocessing, segmentasi, ekstraksi fitur dan klasifikasi citra. Metode yang diterapkan pada setiap tahapan adalah sebagai berikut metode contras stretching untuk perbaiakan citra, metode otsu Thresholding berdasarkan warna HSV untuk segmentasi, sedangkan untuk ekstraksi fitur menggunakan fitur hibrid gabungan antara fitur bentuk dan tekstur Gray Level Co-occurrancy Matrix (GLCM), yang kemudian akan di klasifikasikan menggunakana metode Mahalanobis Distance. Database yang digunkan dalam penelitian ini adalah database ALLIDB2, yang terdiri dari 260 gambar yaitu 130 ALL-Positif dan 130 ALL-Negatif. Pada pengujian ini mendapatkan rata-rata akurasi tertinggi sebesar 85.40% dengan sensitivity 85.8 % dan specificity 85.0%.'}\n"
     ]
    },
    {
     "name": "stderr",
     "output_type": "stream",
     "text": [
      "2022-11-15 07:17:19 [scrapy.core.scraper] DEBUG: Scraped from <200 https://pta.trunojoyo.ac.id/welcome/detail/130411100071>\r\n",
      "{'Abstrak': None}\n"
     ]
    },
    {
     "name": "stderr",
     "output_type": "stream",
     "text": [
      "2022-11-15 07:17:19 [scrapy.core.engine] DEBUG: Crawled (200) <GET https://pta.trunojoyo.ac.id/welcome/detail/130411100072> (referer: None)\n"
     ]
    },
    {
     "name": "stderr",
     "output_type": "stream",
     "text": [
      "2022-11-15 07:17:19 [scrapy.core.engine] DEBUG: Crawled (200) <GET https://pta.trunojoyo.ac.id/welcome/detail/130411100074> (referer: None)\n"
     ]
    },
    {
     "name": "stderr",
     "output_type": "stream",
     "text": [
      "2022-11-15 07:17:19 [scrapy.core.engine] DEBUG: Crawled (200) <GET https://pta.trunojoyo.ac.id/welcome/detail/130411100073> (referer: None)\n"
     ]
    },
    {
     "name": "stderr",
     "output_type": "stream",
     "text": [
      "2022-11-15 07:17:19 [scrapy.core.engine] DEBUG: Crawled (200) <GET https://pta.trunojoyo.ac.id/welcome/detail/130411100075> (referer: None)\n"
     ]
    },
    {
     "name": "stderr",
     "output_type": "stream",
     "text": [
      "2022-11-15 07:17:19 [scrapy.core.scraper] DEBUG: Scraped from <200 https://pta.trunojoyo.ac.id/welcome/detail/130411100072>\r\n",
      "{'Abstrak': '-'}\n"
     ]
    },
    {
     "name": "stderr",
     "output_type": "stream",
     "text": [
      "2022-11-15 07:17:19 [scrapy.core.scraper] DEBUG: Scraped from <200 https://pta.trunojoyo.ac.id/welcome/detail/130411100074>\r\n",
      "{'Abstrak': 'Penjualan melalui internet seperti website telah dilakukan oleh beberapa pengusaha batik di Madura, namun belum memanfaatkan media sosial seperti Twitter dalam mempromosikan website untuk meningkatkan pengunjung. Penggunaan media sosial saat ini juga menjadi kunci dalam mendatangkan pengunjung website. Oleh karena itu, mengoptimalkan media sosial seperti Twitter terhadap website diperlukan untuk membantu mempromosikan website penjualan batik Madura dalam meningkatkan trafik pengunjung. Agar mempermudah pengarahan trafik pengunjung ke website dari media sosial, maka perlu diterapkan metode Social Media Optimization (SMO). Metode ini diterapkan, diuji dan diukur nilai signifikansinya untuk mengetahui pengaruh trafik pengunjung terhadap website penjualan online batik Madura. Dari hasil pengujian yang telah diterapkan metode SMO, pengunjung yang didapat mengalami peningkatan yang signifikan di bulan kedua. Dilihat berdasarkan uji nilai t menggunakan paired t-test dimana korelasi antara sebelum dan sesudah dioptimasi sebesar 2%, dan t hitung 3.548 > t tabel 1.697 dengan nilai signifikansi 0.001 < alfa 0.05, yang berarti H0 ditolak dan H1 diterima atau hipotesis diterima. Hal ini menunjukkan bahwa metode SMO menggunakan Twitter dapat mempengaruhi peningkatan pengunjung meskipun dengan hasil yang ringkas.'}\n"
     ]
    },
    {
     "name": "stderr",
     "output_type": "stream",
     "text": [
      "2022-11-15 07:17:19 [scrapy.core.scraper] DEBUG: Scraped from <200 https://pta.trunojoyo.ac.id/welcome/detail/130411100073>\r\n",
      "{'Abstrak': None}\n"
     ]
    },
    {
     "name": "stderr",
     "output_type": "stream",
     "text": [
      "2022-11-15 07:17:19 [scrapy.core.scraper] DEBUG: Scraped from <200 https://pta.trunojoyo.ac.id/welcome/detail/130411100075>\r\n",
      "{'Abstrak': None}\n"
     ]
    },
    {
     "name": "stderr",
     "output_type": "stream",
     "text": [
      "2022-11-15 07:17:19 [scrapy.core.engine] INFO: Closing spider (finished)\n"
     ]
    },
    {
     "name": "stderr",
     "output_type": "stream",
     "text": [
      "2022-11-15 07:17:19 [scrapy.extensions.feedexport] INFO: Stored csv feed (75 items) in: Abstraksi.csv\n"
     ]
    },
    {
     "name": "stderr",
     "output_type": "stream",
     "text": [
      "2022-11-15 07:17:19 [scrapy.statscollectors] INFO: Dumping Scrapy stats:\n",
      "{'downloader/request_bytes': 42675,\n",
      " 'downloader/request_count': 75,\n",
      " 'downloader/request_method_count/GET': 75,\n",
      " 'downloader/response_bytes': 359708,\n",
      " 'downloader/response_count': 75,\n",
      " 'downloader/response_status_count/200': 75,\n",
      " 'elapsed_time_seconds': 15.474924,\n",
      " 'feedexport/success_count/FileFeedStorage': 1,\n",
      " 'finish_reason': 'finished',\n",
      " 'finish_time': datetime.datetime(2022, 11, 15, 0, 17, 19, 877877),\n",
      " 'httpcompression/response_bytes': 1162590,\n",
      " 'httpcompression/response_count': 75,\n",
      " 'item_scraped_count': 75,\n",
      " 'log_count/DEBUG': 155,\n",
      " 'log_count/INFO': 11,\n",
      " 'log_count/WARNING': 1,\n",
      " 'response_received_count': 75,\n",
      " 'scheduler/dequeued': 75,\n",
      " 'scheduler/dequeued/memory': 75,\n",
      " 'scheduler/enqueued': 75,\n",
      " 'scheduler/enqueued/memory': 75,\n",
      " 'start_time': datetime.datetime(2022, 11, 15, 0, 17, 4, 402953)}\n"
     ]
    },
    {
     "name": "stderr",
     "output_type": "stream",
     "text": [
      "2022-11-15 07:17:19 [scrapy.core.engine] INFO: Spider closed (finished)\n"
     ]
    }
   ],
   "source": [
    "import scrapy\n",
    "from scrapy.crawler import CrawlerProcess\n",
    "\n",
    "\n",
    "class AbstracToCsv(scrapy.Spider):\n",
    "  name = 'Abstrac To CSV'\n",
    "  def start_requests(self):\n",
    "        x = 100000\n",
    "        for i in range (0,75):\n",
    "            x +=1\n",
    "            urls = [\n",
    "                'https://pta.trunojoyo.ac.id/welcome/detail/130411'+str(x),\n",
    "                #'https://pta.trunojoyo.ac.id/welcome/detail/140411'+str(x),\n",
    "                #'https://pta.trunojoyo.ac.id/welcome/detail/150411'+str(x),\n",
    "                #'https://pta.trunojoyo.ac.id/welcome/detail/160411'+str(x)\n",
    "            ]\n",
    "            for url in urls:\n",
    "                yield scrapy.Request(url=url, callback=self.parse)\n",
    "\n",
    "  custom_settings = {\n",
    "      'FEED_FORMAT': 'csv',\n",
    "      'FEED_URI': 'Abstraksi.csv'\n",
    "  }\n",
    "\n",
    "  def parse(self, response):\n",
    "        yield {\n",
    "            'Abstrak':response.css('#content_journal > ul > li > div:nth-child(4) > div:nth-child(2) > p::text').get()\n",
    "              }\n",
    "\n",
    "process = CrawlerProcess()\n",
    "process.crawl(AbstracToCsv)\n",
    "process.start()"
   ]
  },
  {
   "cell_type": "markdown",
   "metadata": {
    "id": "jwH60n5-6rP2"
   },
   "source": [
    "## **Buang Baris Kosong**\n",
    "Setelah didapat hasil crawling kita baca file csv tersebut, akan tetapi pada hasil crawling tersebut masih terdapat baris yang kosong yang didapat dari link yang kosong, untuk itu perlu dihilangkan dengan source code berikut."
   ]
  },
  {
   "cell_type": "code",
   "execution_count": 3,
   "metadata": {
    "colab": {
     "base_uri": "https://localhost:8080/"
    },
    "id": "Kfem20UYmapX",
    "outputId": "11ce2fd5-4361-4012-9080-0c6c7d5dfa79"
   },
   "outputs": [],
   "source": [
    "import pandas as pd \n",
    "abs = pd.read_csv(\"Abstraksi.csv\",index_col=False)"
   ]
  },
  {
   "cell_type": "code",
   "execution_count": 4,
   "metadata": {
    "colab": {
     "base_uri": "https://localhost:8080/"
    },
    "id": "3N3ZGRVBmapY",
    "outputId": "2944d4da-35af-4300-fedd-b0698c0c0547"
   },
   "outputs": [
    {
     "data": {
      "text/plain": [
       "Abstrak    0\n",
       "dtype: int64"
      ]
     },
     "execution_count": 4,
     "metadata": {},
     "output_type": "execute_result"
    }
   ],
   "source": [
    "abs.dropna(inplace=True)\n",
    "abs.isnull().sum()"
   ]
  },
  {
   "cell_type": "markdown",
   "metadata": {
    "id": "8lsWnW8g74gr"
   },
   "source": [
    "Setelah berhasil dihapus, simpan kembali dalam format csv"
   ]
  },
  {
   "cell_type": "code",
   "execution_count": 5,
   "metadata": {
    "id": "O90Au7k4mapa"
   },
   "outputs": [],
   "source": [
    "abs.to_csv(\"hasil_crawling.csv\",index=False)"
   ]
  },
  {
   "cell_type": "markdown",
   "metadata": {
    "id": "Mq6hQnGt7Y9m"
   },
   "source": [
    "## **Baca Hasil Crawling**\n",
    "Setelah baris kosong dari hasil crawling sudah dihapus kita tampilkan hasil crawling data absrak dari pta.trunojoyo seperti berikut."
   ]
  },
  {
   "cell_type": "code",
   "execution_count": 6,
   "metadata": {
    "colab": {
     "base_uri": "https://localhost:8080/",
     "height": 1000
    },
    "id": "MeCng3z14Nbd",
    "outputId": "f9cce452-106c-4add-a099-caeb73bd3474"
   },
   "outputs": [
    {
     "data": {
      "text/html": [
       "<div>\n",
       "<style scoped>\n",
       "    .dataframe tbody tr th:only-of-type {\n",
       "        vertical-align: middle;\n",
       "    }\n",
       "\n",
       "    .dataframe tbody tr th {\n",
       "        vertical-align: top;\n",
       "    }\n",
       "\n",
       "    .dataframe thead th {\n",
       "        text-align: right;\n",
       "    }\n",
       "</style>\n",
       "<table border=\"1\" class=\"dataframe\">\n",
       "  <thead>\n",
       "    <tr style=\"text-align: right;\">\n",
       "      <th></th>\n",
       "      <th>Abstrak</th>\n",
       "    </tr>\n",
       "  </thead>\n",
       "  <tbody>\n",
       "    <tr>\n",
       "      <th>0</th>\n",
       "      <td>Bola voli dapat dikatakan sebagai salah satu o...</td>\n",
       "    </tr>\n",
       "    <tr>\n",
       "      <th>1</th>\n",
       "      <td>Pelayanan administrasi kependudukan di Kantor ...</td>\n",
       "    </tr>\n",
       "    <tr>\n",
       "      <th>2</th>\n",
       "      <td>Bisnis pakaian di era modern ini berkembang se...</td>\n",
       "    </tr>\n",
       "    <tr>\n",
       "      <th>3</th>\n",
       "      <td>Pada Proses identifikasi Leukemia ada beberapa...</td>\n",
       "    </tr>\n",
       "    <tr>\n",
       "      <th>4</th>\n",
       "      <td>Kegiatan pencatatan data administrasi penduduk...</td>\n",
       "    </tr>\n",
       "    <tr>\n",
       "      <th>...</th>\n",
       "      <td>...</td>\n",
       "    </tr>\n",
       "    <tr>\n",
       "      <th>258</th>\n",
       "      <td>Acute Lymphoblastic Leukemia (ALL) adalah sala...</td>\n",
       "    </tr>\n",
       "    <tr>\n",
       "      <th>259</th>\n",
       "      <td>Proses rekrutmen dalam suatu perusahaan atau o...</td>\n",
       "    </tr>\n",
       "    <tr>\n",
       "      <th>260</th>\n",
       "      <td>Acute Lymphoblastic Leukemia (ALL) merupakan p...</td>\n",
       "    </tr>\n",
       "    <tr>\n",
       "      <th>261</th>\n",
       "      <td>-</td>\n",
       "    </tr>\n",
       "    <tr>\n",
       "      <th>262</th>\n",
       "      <td>Penjualan melalui internet seperti website tel...</td>\n",
       "    </tr>\n",
       "  </tbody>\n",
       "</table>\n",
       "<p>263 rows × 1 columns</p>\n",
       "</div>"
      ],
      "text/plain": [
       "                                               Abstrak\n",
       "0    Bola voli dapat dikatakan sebagai salah satu o...\n",
       "1    Pelayanan administrasi kependudukan di Kantor ...\n",
       "2    Bisnis pakaian di era modern ini berkembang se...\n",
       "3    Pada Proses identifikasi Leukemia ada beberapa...\n",
       "4    Kegiatan pencatatan data administrasi penduduk...\n",
       "..                                                 ...\n",
       "258  Acute Lymphoblastic Leukemia (ALL) adalah sala...\n",
       "259  Proses rekrutmen dalam suatu perusahaan atau o...\n",
       "260  Acute Lymphoblastic Leukemia (ALL) merupakan p...\n",
       "261                                                  -\n",
       "262  Penjualan melalui internet seperti website tel...\n",
       "\n",
       "[263 rows x 1 columns]"
      ]
     },
     "execution_count": 6,
     "metadata": {},
     "output_type": "execute_result"
    }
   ],
   "source": [
    "data = pd.read_csv(\"hasil_crawling.csv\",index_col=False)\n",
    "data"
   ]
  },
  {
   "cell_type": "markdown",
   "metadata": {
    "id": "tEwWgVlrtUvf"
   },
   "source": [
    "## **Kesimpulan**\n",
    "Dari hasil yang diperoleh, didapat data abstrak sebanyak 125 data abstrak yang diperoleh dari pta.trunojoyo.ac.id dengan mengambil data abstrak fakultas teknik mulai dari angkatan 13 hingga 16, dengan urutan NIM dari 0-75. Data abstrak yang diperoleh tersebut disimpan dalam bentuk csv."
   ]
  }
 ],
 "metadata": {
  "colab": {
   "provenance": []
  },
  "kernelspec": {
   "display_name": "Python 3",
   "name": "python3"
  },
  "language_info": {
   "codemirror_mode": {
    "name": "ipython",
    "version": 3
   },
   "file_extension": ".py",
   "mimetype": "text/x-python",
   "name": "python",
   "nbconvert_exporter": "python",
   "pygments_lexer": "ipython3",
   "version": "3.9.7"
  }
 },
 "nbformat": 4,
 "nbformat_minor": 0
}